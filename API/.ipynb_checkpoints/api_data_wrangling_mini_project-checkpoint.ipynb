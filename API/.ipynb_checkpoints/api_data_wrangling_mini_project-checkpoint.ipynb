{
 "cells": [
  {
   "cell_type": "markdown",
   "metadata": {},
   "source": [
    "This exercise will require you to pull some data from the Qunadl API. Qaundl is currently the most widely used aggregator of financial market data."
   ]
  },
  {
   "cell_type": "markdown",
   "metadata": {},
   "source": [
    "As a first step, you will need to register a free account on the http://www.quandl.com website."
   ]
  },
  {
   "cell_type": "markdown",
   "metadata": {},
   "source": [
    "After you register, you will be provided with a unique API key, that you should store:"
   ]
  },
  {
   "cell_type": "code",
   "execution_count": 1,
   "metadata": {},
   "outputs": [],
   "source": [
    "# Store the API key as a string - according to PEP8, constants are always named in all upper case\n",
    "API_KEY = 'ie4sM5G__EeDg6Sg5wi7'"
   ]
  },
  {
   "cell_type": "markdown",
   "metadata": {},
   "source": [
    "Qaundl has a large number of data sources, but, unfortunately, most of them require a Premium subscription. Still, there are also a good number of free datasets."
   ]
  },
  {
   "cell_type": "markdown",
   "metadata": {},
   "source": [
    "For this mini project, we will focus on equities data from the Frankfurt Stock Exhange (FSE), which is available for free. We'll try and analyze the stock prices of a company called Carl Zeiss Meditec, which manufactures tools for eye examinations, as well as medical lasers for laser eye surgery: https://www.zeiss.com/meditec/int/home.html. The company is listed under the stock ticker AFX_X."
   ]
  },
  {
   "cell_type": "markdown",
   "metadata": {},
   "source": [
    "You can find the detailed Quandl API instructions here: https://docs.quandl.com/docs/time-series"
   ]
  },
  {
   "cell_type": "markdown",
   "metadata": {},
   "source": [
    "While there is a dedicated Python package for connecting to the Quandl API, we would prefer that you use the *requests* package, which can be easily downloaded using *pip* or *conda*. You can find the documentation for the package here: http://docs.python-requests.org/en/master/ "
   ]
  },
  {
   "cell_type": "markdown",
   "metadata": {},
   "source": [
    "Finally, apart from the *requests* package, you are encouraged to not use any third party Python packages, such as *pandas*, and instead focus on what's available in the Python Standard Library (the *collections* module might come in handy: https://pymotw.com/3/collections/ ).\n",
    "Also, since you won't have access to DataFrames, you are encouraged to us Python's native data structures - preferably dictionaries, though some questions can also be answered using lists.\n",
    "You can read more on these data structures here: https://docs.python.org/3/tutorial/datastructures.html"
   ]
  },
  {
   "cell_type": "markdown",
   "metadata": {},
   "source": [
    "Keep in mind that the JSON responses you will be getting from the API map almost one-to-one to Python's dictionaries. Unfortunately, they can be very nested, so make sure you read up on indexing dictionaries in the documentation provided above."
   ]
  },
  {
   "cell_type": "code",
   "execution_count": 2,
   "metadata": {},
   "outputs": [],
   "source": [
    "# First, import the relevant modules\n",
    "import requests\n",
    "import json\n"
   ]
  },
  {
   "cell_type": "code",
   "execution_count": 3,
   "metadata": {},
   "outputs": [],
   "source": [
    "# Now, call the Quandl API and pull out a small sample of the data (only one day) to get a glimpse\n",
    "# into the JSON structure that will be returned\n",
    "api_path = \"https://www.quandl.com/api/v3/datasets/FSE/AFX_X?start_date=2018-04-24&end_date=2018-04-24&api_key=\"\n",
    "r = requests.get(api_path + API_KEY)"
   ]
  },
  {
   "cell_type": "code",
   "execution_count": 4,
   "metadata": {},
   "outputs": [
    {
     "data": {
      "text/plain": [
       "{'dataset': {'collapse': None,\n",
       "  'column_index': None,\n",
       "  'column_names': ['Date',\n",
       "   'Open',\n",
       "   'High',\n",
       "   'Low',\n",
       "   'Close',\n",
       "   'Change',\n",
       "   'Traded Volume',\n",
       "   'Turnover',\n",
       "   'Last Price of the Day',\n",
       "   'Daily Traded Units',\n",
       "   'Daily Turnover'],\n",
       "  'data': [['2018-04-24',\n",
       "    None,\n",
       "    54.75,\n",
       "    54.15,\n",
       "    54.6,\n",
       "    None,\n",
       "    59651.0,\n",
       "    3252235.0,\n",
       "    None,\n",
       "    None,\n",
       "    None]],\n",
       "  'database_code': 'FSE',\n",
       "  'database_id': 6129,\n",
       "  'dataset_code': 'AFX_X',\n",
       "  'description': 'Stock Prices for Carl Zeiss Meditec (AFX) from the Frankfurt Stock Exchange.<br><br>Trading System: Xetra<br><br>ISIN: DE0005313704',\n",
       "  'end_date': '2018-04-24',\n",
       "  'frequency': 'daily',\n",
       "  'id': 10095370,\n",
       "  'limit': None,\n",
       "  'name': 'Carl Zeiss Meditec (AFX_X)',\n",
       "  'newest_available_date': '2019-04-18',\n",
       "  'oldest_available_date': '2000-06-07',\n",
       "  'order': None,\n",
       "  'premium': False,\n",
       "  'refreshed_at': '2019-04-18T22:30:39.683Z',\n",
       "  'start_date': '2018-04-24',\n",
       "  'transform': None,\n",
       "  'type': 'Time Series'}}"
      ]
     },
     "execution_count": 4,
     "metadata": {},
     "output_type": "execute_result"
    }
   ],
   "source": [
    "# Inspect the JSON structure of the object you created, and take note of how nested it is,\n",
    "# as well as the overall structure\n",
    "r.json()"
   ]
  },
  {
   "cell_type": "markdown",
   "metadata": {},
   "source": [
    "These are your tasks for this mini project:\n",
    "\n",
    "1. Collect data from the Franfurt Stock Exchange, for the ticker AFX_X, for the whole year 2017 (keep in mind that the date format is YYYY-MM-DD).\n",
    "2. Convert the returned JSON object into a Python dictionary.\n",
    "3. Calculate what the highest and lowest opening prices were for the stock in this period.\n",
    "4. What was the largest change in any one day (based on High and Low price)?\n",
    "5. What was the largest change between any two days (based on Closing Price)?\n",
    "6. What was the average daily trading volume during this year?\n",
    "7. (Optional) What was the median trading volume during this year. (Note: you may need to implement your own function for calculating the median.)"
   ]
  },
  {
   "cell_type": "markdown",
   "metadata": {
    "collapsed": true
   },
   "source": [
    "### 1. Collect Frankfurt Stock Exchange Data for 2017"
   ]
  },
  {
   "cell_type": "code",
   "execution_count": 5,
   "metadata": {},
   "outputs": [],
   "source": [
    "# Set API path\n",
    "fse_path = \"https://www.quandl.com/api/v3/datasets/FSE/AFX_X?start_date=2017-01-01&end_date=2017-12-31&api_key=\" \n",
    "\n",
    "# Retrieve data using request\n",
    "data_2017 = requests.get(fse_path + API_KEY)"
   ]
  },
  {
   "cell_type": "markdown",
   "metadata": {},
   "source": [
    "### 2. Convert into dictionary"
   ]
  },
  {
   "cell_type": "code",
   "execution_count": 6,
   "metadata": {},
   "outputs": [
    {
     "data": {
      "text/plain": [
       "dict"
      ]
     },
     "execution_count": 6,
     "metadata": {},
     "output_type": "execute_result"
    }
   ],
   "source": [
    "afx_2017 = json.loads(data_2017.text)\n",
    "type(afx_2017)"
   ]
  },
  {
   "cell_type": "markdown",
   "metadata": {},
   "source": [
    "### 3. Calculate high and low prices over 2017"
   ]
  },
  {
   "cell_type": "code",
   "execution_count": 7,
   "metadata": {},
   "outputs": [
    {
     "name": "stdout",
     "output_type": "stream",
     "text": [
      "Lowest price was $34.00 and highest was $53.11.\n"
     ]
    }
   ],
   "source": [
    "open_prices = [daily[1] for daily in afx_2017['dataset']['data'] if daily[1] is not None]\n",
    "min_opening = min(open_prices)\n",
    "max_opening = max(open_prices)\n",
    "print(\"Lowest price was $%.2f and highest was $%.2f.\" % (min_opening, max_opening))"
   ]
  },
  {
   "cell_type": "markdown",
   "metadata": {},
   "source": [
    "### 4. Find largest one-day change using high and low prices"
   ]
  },
  {
   "cell_type": "code",
   "execution_count": 8,
   "metadata": {},
   "outputs": [
    {
     "name": "stdout",
     "output_type": "stream",
     "text": [
      "Largest 1-day change using daily high and low prices was $2.81.\n"
     ]
    }
   ],
   "source": [
    "daily_changes = [(daily[2]-daily[3]) for daily in afx_2017['dataset']['data']]\n",
    "\n",
    "print('Largest 1-day change using daily high and low prices was $%.2f.' % max(daily_changes))"
   ]
  },
  {
   "cell_type": "markdown",
   "metadata": {},
   "source": [
    "### 5. Find largest change over two days using closing prices"
   ]
  },
  {
   "cell_type": "code",
   "execution_count": 9,
   "metadata": {},
   "outputs": [
    {
     "name": "stdout",
     "output_type": "stream",
     "text": [
      "The largest change between any two days using closing prices was $2.56.\n"
     ]
    }
   ],
   "source": [
    "two_day_change = []\n",
    "prev_day_price = 0\n",
    "\n",
    "for daily in afx_2017['dataset']['data']:\n",
    "    if prev_day_price == 0:\n",
    "        prev_day_price = daily[4]\n",
    "    else:\n",
    "        two_day_change.append(daily[4] - prev_day_price)\n",
    "        prev_day_price = daily[4]\n",
    "        \n",
    "max_change = max(two_day_change)\n",
    "min_change = min(two_day_change)\n",
    "\n",
    "if abs(min_change) > max_change:\n",
    "    print('The largest change between any two days using closing prices was -$%.2f.' % abs(min_change))\n",
    "else:\n",
    "    print('The largest change between any two days using closing prices was $%.2f.' % max_change)"
   ]
  },
  {
   "cell_type": "markdown",
   "metadata": {},
   "source": [
    "### 6. Find average daily volume in 2017"
   ]
  },
  {
   "cell_type": "code",
   "execution_count": 10,
   "metadata": {},
   "outputs": [
    {
     "name": "stdout",
     "output_type": "stream",
     "text": [
      "The average daily volume in 2017 was 89124.\n"
     ]
    }
   ],
   "source": [
    "total_vol = 0\n",
    "for daily in afx_2017['dataset']['data']:\n",
    "    total_vol += daily[6]\n",
    "print('The average daily volume in 2017 was %d.' % (total_vol/len(afx_2017['dataset']['data'])))"
   ]
  },
  {
   "cell_type": "markdown",
   "metadata": {},
   "source": [
    "### 7. Find median daily volume"
   ]
  },
  {
   "cell_type": "code",
   "execution_count": 11,
   "metadata": {},
   "outputs": [
    {
     "name": "stdout",
     "output_type": "stream",
     "text": [
      "Median volume in 2017 was 76600.\n"
     ]
    }
   ],
   "source": [
    "trading_vol = sorted([daily[6] for daily in afx_2017['dataset']['data']])\n",
    "trading_len = len(trading_vol)\n",
    "half_len = trading_len/2\n",
    "if trading_len % 2 == 1:\n",
    "    print(\"Median volume in 2017 was %d.\" % trading_vol[round(half_len)])\n",
    "else:\n",
    "    print(\"Median volume in 2017 was %d.\" % (trading_vol[half_len]+trading_vol[half_len+1])/2)"
   ]
  }
 ],
 "metadata": {
  "kernelspec": {
   "display_name": "Python 3",
   "language": "python",
   "name": "python3"
  },
  "language_info": {
   "codemirror_mode": {
    "name": "ipython",
    "version": 3
   },
   "file_extension": ".py",
   "mimetype": "text/x-python",
   "name": "python",
   "nbconvert_exporter": "python",
   "pygments_lexer": "ipython3",
   "version": "3.6.4"
  }
 },
 "nbformat": 4,
 "nbformat_minor": 2
}
