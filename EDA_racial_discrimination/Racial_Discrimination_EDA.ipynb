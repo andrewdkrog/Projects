{
 "cells": [
  {
   "cell_type": "markdown",
   "metadata": {},
   "source": [
    "# Examining Racial Discrimination in the US Job Market\n",
    "\n",
    "### Background\n",
    "Racial discrimination continues to be pervasive in cultures throughout the world. Researchers examined the level of racial discrimination in the United States labor market by randomly assigning identical résumés to black-sounding or white-sounding names and observing the impact on requests for interviews from employers.\n",
    "\n",
    "### Data\n",
    "In the dataset provided, each row represents a resume. The 'race' column has two values, 'b' and 'w', indicating black-sounding and white-sounding. The column 'call' has two values, 1 and 0, indicating whether the resume received a call from employers or not.\n",
    "\n",
    "Note that the 'b' and 'w' values in race are assigned randomly to the resumes when presented to the employer."
   ]
  },
  {
   "cell_type": "markdown",
   "metadata": {},
   "source": [
    "### Exercises\n",
    "You will perform a statistical analysis to establish whether race has a significant impact on the rate of callbacks for resumes.\n",
    "\n",
    "Answer the following questions **in this notebook below and submit to your Github account**. \n",
    "\n",
    "   1. What test is appropriate for this problem? Does CLT apply?\n",
    "   2. What are the null and alternate hypotheses?\n",
    "   3. Compute margin of error, confidence interval, and p-value. Try using both the bootstrapping and the frequentist statistical approaches.\n",
    "   4. Write a story describing the statistical significance in the context or the original problem.\n",
    "   5. Does your analysis mean that race/name is the most important factor in callback success? Why or why not? If not, how would you amend your analysis?\n",
    "\n",
    "You can include written notes in notebook cells using Markdown: \n",
    "   - In the control panel at the top, choose Cell > Cell Type > Markdown\n",
    "   - Markdown syntax: http://nestacms.com/docs/creating-content/markdown-cheat-sheet\n",
    "\n",
    "#### Resources\n",
    "+ Experiment information and data source: http://www.povertyactionlab.org/evaluation/discrimination-job-market-united-states\n",
    "+ Scipy statistical methods: http://docs.scipy.org/doc/scipy/reference/stats.html \n",
    "+ Markdown syntax: http://nestacms.com/docs/creating-content/markdown-cheat-sheet\n",
    "+ Formulas for the Bernoulli distribution: https://en.wikipedia.org/wiki/Bernoulli_distribution"
   ]
  },
  {
   "cell_type": "code",
   "execution_count": 1,
   "metadata": {},
   "outputs": [],
   "source": [
    "# Import packages\n",
    "import pandas as pd\n",
    "import numpy as np\n",
    "from scipy import stats"
   ]
  },
  {
   "cell_type": "code",
   "execution_count": 2,
   "metadata": {},
   "outputs": [],
   "source": [
    "data = pd.io.stata.read_stata('data/us_job_market_discrimination.dta')"
   ]
  },
  {
   "cell_type": "code",
   "execution_count": 3,
   "metadata": {},
   "outputs": [
    {
     "data": {
      "text/plain": [
       "235.0"
      ]
     },
     "execution_count": 3,
     "metadata": {},
     "output_type": "execute_result"
    }
   ],
   "source": [
    "# number of callbacks for black-sounding names\n",
    "sum(data[data.race=='w'].call)"
   ]
  },
  {
   "cell_type": "code",
   "execution_count": 4,
   "metadata": {},
   "outputs": [
    {
     "data": {
      "text/html": [
       "<div>\n",
       "<style scoped>\n",
       "    .dataframe tbody tr th:only-of-type {\n",
       "        vertical-align: middle;\n",
       "    }\n",
       "\n",
       "    .dataframe tbody tr th {\n",
       "        vertical-align: top;\n",
       "    }\n",
       "\n",
       "    .dataframe thead th {\n",
       "        text-align: right;\n",
       "    }\n",
       "</style>\n",
       "<table border=\"1\" class=\"dataframe\">\n",
       "  <thead>\n",
       "    <tr style=\"text-align: right;\">\n",
       "      <th></th>\n",
       "      <th>id</th>\n",
       "      <th>ad</th>\n",
       "      <th>education</th>\n",
       "      <th>ofjobs</th>\n",
       "      <th>yearsexp</th>\n",
       "      <th>honors</th>\n",
       "      <th>volunteer</th>\n",
       "      <th>military</th>\n",
       "      <th>empholes</th>\n",
       "      <th>occupspecific</th>\n",
       "      <th>...</th>\n",
       "      <th>compreq</th>\n",
       "      <th>orgreq</th>\n",
       "      <th>manuf</th>\n",
       "      <th>transcom</th>\n",
       "      <th>bankreal</th>\n",
       "      <th>trade</th>\n",
       "      <th>busservice</th>\n",
       "      <th>othservice</th>\n",
       "      <th>missind</th>\n",
       "      <th>ownership</th>\n",
       "    </tr>\n",
       "  </thead>\n",
       "  <tbody>\n",
       "    <tr>\n",
       "      <th>0</th>\n",
       "      <td>b</td>\n",
       "      <td>1</td>\n",
       "      <td>4</td>\n",
       "      <td>2</td>\n",
       "      <td>6</td>\n",
       "      <td>0</td>\n",
       "      <td>0</td>\n",
       "      <td>0</td>\n",
       "      <td>1</td>\n",
       "      <td>17</td>\n",
       "      <td>...</td>\n",
       "      <td>1.0</td>\n",
       "      <td>0.0</td>\n",
       "      <td>1.0</td>\n",
       "      <td>0.0</td>\n",
       "      <td>0.0</td>\n",
       "      <td>0.0</td>\n",
       "      <td>0.0</td>\n",
       "      <td>0.0</td>\n",
       "      <td>0.0</td>\n",
       "      <td></td>\n",
       "    </tr>\n",
       "    <tr>\n",
       "      <th>1</th>\n",
       "      <td>b</td>\n",
       "      <td>1</td>\n",
       "      <td>3</td>\n",
       "      <td>3</td>\n",
       "      <td>6</td>\n",
       "      <td>0</td>\n",
       "      <td>1</td>\n",
       "      <td>1</td>\n",
       "      <td>0</td>\n",
       "      <td>316</td>\n",
       "      <td>...</td>\n",
       "      <td>1.0</td>\n",
       "      <td>0.0</td>\n",
       "      <td>1.0</td>\n",
       "      <td>0.0</td>\n",
       "      <td>0.0</td>\n",
       "      <td>0.0</td>\n",
       "      <td>0.0</td>\n",
       "      <td>0.0</td>\n",
       "      <td>0.0</td>\n",
       "      <td></td>\n",
       "    </tr>\n",
       "    <tr>\n",
       "      <th>2</th>\n",
       "      <td>b</td>\n",
       "      <td>1</td>\n",
       "      <td>4</td>\n",
       "      <td>1</td>\n",
       "      <td>6</td>\n",
       "      <td>0</td>\n",
       "      <td>0</td>\n",
       "      <td>0</td>\n",
       "      <td>0</td>\n",
       "      <td>19</td>\n",
       "      <td>...</td>\n",
       "      <td>1.0</td>\n",
       "      <td>0.0</td>\n",
       "      <td>1.0</td>\n",
       "      <td>0.0</td>\n",
       "      <td>0.0</td>\n",
       "      <td>0.0</td>\n",
       "      <td>0.0</td>\n",
       "      <td>0.0</td>\n",
       "      <td>0.0</td>\n",
       "      <td></td>\n",
       "    </tr>\n",
       "    <tr>\n",
       "      <th>3</th>\n",
       "      <td>b</td>\n",
       "      <td>1</td>\n",
       "      <td>3</td>\n",
       "      <td>4</td>\n",
       "      <td>6</td>\n",
       "      <td>0</td>\n",
       "      <td>1</td>\n",
       "      <td>0</td>\n",
       "      <td>1</td>\n",
       "      <td>313</td>\n",
       "      <td>...</td>\n",
       "      <td>1.0</td>\n",
       "      <td>0.0</td>\n",
       "      <td>1.0</td>\n",
       "      <td>0.0</td>\n",
       "      <td>0.0</td>\n",
       "      <td>0.0</td>\n",
       "      <td>0.0</td>\n",
       "      <td>0.0</td>\n",
       "      <td>0.0</td>\n",
       "      <td></td>\n",
       "    </tr>\n",
       "    <tr>\n",
       "      <th>4</th>\n",
       "      <td>b</td>\n",
       "      <td>1</td>\n",
       "      <td>3</td>\n",
       "      <td>3</td>\n",
       "      <td>22</td>\n",
       "      <td>0</td>\n",
       "      <td>0</td>\n",
       "      <td>0</td>\n",
       "      <td>0</td>\n",
       "      <td>313</td>\n",
       "      <td>...</td>\n",
       "      <td>1.0</td>\n",
       "      <td>1.0</td>\n",
       "      <td>0.0</td>\n",
       "      <td>0.0</td>\n",
       "      <td>0.0</td>\n",
       "      <td>0.0</td>\n",
       "      <td>0.0</td>\n",
       "      <td>1.0</td>\n",
       "      <td>0.0</td>\n",
       "      <td>Nonprofit</td>\n",
       "    </tr>\n",
       "  </tbody>\n",
       "</table>\n",
       "<p>5 rows × 65 columns</p>\n",
       "</div>"
      ],
      "text/plain": [
       "  id ad  education  ofjobs  yearsexp  honors  volunteer  military  empholes  \\\n",
       "0  b  1          4       2         6       0          0         0         1   \n",
       "1  b  1          3       3         6       0          1         1         0   \n",
       "2  b  1          4       1         6       0          0         0         0   \n",
       "3  b  1          3       4         6       0          1         0         1   \n",
       "4  b  1          3       3        22       0          0         0         0   \n",
       "\n",
       "   occupspecific  ...  compreq  orgreq  manuf  transcom  bankreal trade  \\\n",
       "0             17  ...      1.0     0.0    1.0       0.0       0.0   0.0   \n",
       "1            316  ...      1.0     0.0    1.0       0.0       0.0   0.0   \n",
       "2             19  ...      1.0     0.0    1.0       0.0       0.0   0.0   \n",
       "3            313  ...      1.0     0.0    1.0       0.0       0.0   0.0   \n",
       "4            313  ...      1.0     1.0    0.0       0.0       0.0   0.0   \n",
       "\n",
       "  busservice othservice  missind  ownership  \n",
       "0        0.0        0.0      0.0             \n",
       "1        0.0        0.0      0.0             \n",
       "2        0.0        0.0      0.0             \n",
       "3        0.0        0.0      0.0             \n",
       "4        0.0        1.0      0.0  Nonprofit  \n",
       "\n",
       "[5 rows x 65 columns]"
      ]
     },
     "execution_count": 4,
     "metadata": {},
     "output_type": "execute_result"
    }
   ],
   "source": [
    "data.head()"
   ]
  },
  {
   "cell_type": "markdown",
   "metadata": {
    "collapsed": true
   },
   "source": [
    "1. The central limit theorem applies here because our sample observations are independent (names assigned randomly) and the sample size is well above the rule of thumb of 30-40 observations to have confidence that the sampling distribution of the mean will be normally distributed. The test used will be a two-sample z-test.\n",
    "\n",
    "2. In this case, the null hypothesis is that there is no difference in the rate of callbacks between the resumes assigned the black-sounding names and the white-sounding names. The alternative is that there is a difference."
   ]
  },
  {
   "cell_type": "code",
   "execution_count": 5,
   "metadata": {},
   "outputs": [],
   "source": [
    "w = data[data.race=='w']\n",
    "b = data[data.race=='b']"
   ]
  },
  {
   "cell_type": "markdown",
   "metadata": {},
   "source": [
    "#### Frequentist"
   ]
  },
  {
   "cell_type": "code",
   "execution_count": 6,
   "metadata": {},
   "outputs": [],
   "source": [
    "# Calculate the number of callbacks for each race\n",
    "count_call_w = sum(data[data.race=='w'].call)\n",
    "count_call_b = sum(data[data.race=='b'].call)\n",
    "\n",
    "# Calculate the total rows for each race\n",
    "count_tot_w = len(data[data.race=='w'].call)\n",
    "count_tot_b = len(data[data.race=='b'].call)\n",
    "\n",
    "# Calculate the proportion of callback for each race\n",
    "prop_w = count_call_w / count_tot_w\n",
    "prop_b = count_call_b / count_tot_b\n",
    "\n",
    "# Calculate the pooled proportion\n",
    "prop_pool = (prop_w * count_tot_w + prop_b * count_tot_b) / (count_tot_w + count_tot_b)\n",
    "\n",
    "# Calculate the difference in proportions and SE\n",
    "prop_diff = np.abs(prop_w-prop_b)\n",
    "std_error = np.sqrt(prop_pool * (1-prop_pool) * ((1./count_tot_w) + (1./count_tot_b)))\n",
    "\n",
    "# Calculate z-score\n",
    "z = prop_diff / std_error\n",
    "\n",
    "#Assume a confidence level of 0.95\n",
    "CL = 0.95\n",
    "\n",
    "#Calculate the margin of error\n",
    "moe = stats.norm.ppf(1-((1-CL)/2)) * std_error\n",
    "\n",
    "#Calculate the 95% CI from the difference of proportions\n",
    "ci_lower, ci_upper = stats.norm.interval(CL, loc=prop_diff, scale=std_error)\n",
    "\n",
    "#Calculate the p-value \n",
    "p_value = (1-stats.norm.cdf(z))*2"
   ]
  },
  {
   "cell_type": "code",
   "execution_count": 7,
   "metadata": {},
   "outputs": [
    {
     "name": "stdout",
     "output_type": "stream",
     "text": [
      "Margin of error: 0.015281631502169232\n",
      "95 Percent Confidence interval: 0.01675122 to 0.04731449\n",
      "P-Value: 3.983886837577444e-05\n"
     ]
    }
   ],
   "source": [
    "print('Margin of error: %s' % (moe))\n",
    "print('95 Percent Confidence interval: %.8f to %.8f' % (ci_lower, ci_upper))\n",
    "print('P-Value: %s' % (p_value))"
   ]
  },
  {
   "cell_type": "code",
   "execution_count": 8,
   "metadata": {},
   "outputs": [
    {
     "name": "stdout",
     "output_type": "stream",
     "text": [
      "Z-Score=4.108, P-Value=0.004%\n"
     ]
    }
   ],
   "source": [
    "# Perform z-test using statsmodels package\n",
    "from statsmodels.stats.proportion import proportions_ztest\n",
    "\n",
    "# Get sample proportion of callbacks for black-sounding names\n",
    "count_b = np.sum(data.race == 'b')\n",
    "num_success_b = int(np.sum(data[data.race=='b'].call))\n",
    "num_fail_b = int(count_b - num_success_b)\n",
    "prop_b = num_success_b/count_b\n",
    "\n",
    "# Get sample proportion of callbacks for white-sounding names\n",
    "count_w = np.sum(data.race == 'w')\n",
    "num_success_w = int(np.sum(data[data.race=='w'].call))\n",
    "num_fail_w = int(count_w - num_success_w)\n",
    "prop_w = num_success_w/count_w\n",
    "\n",
    "stat, p_val = proportions_ztest([num_success_w, num_success_b], [count_w, count_b])\n",
    "print('Z-Score={0:0.3f}, P-Value={1:0.3%}'.format(stat, p_val))"
   ]
  },
  {
   "cell_type": "markdown",
   "metadata": {},
   "source": [
    "The null hypothesis that there is no difference between the populations is rejected with a p-value of 0.00004."
   ]
  },
  {
   "cell_type": "markdown",
   "metadata": {
    "collapsed": true
   },
   "source": [
    "#### Bootstrap"
   ]
  },
  {
   "cell_type": "code",
   "execution_count": 9,
   "metadata": {
    "scrolled": true
   },
   "outputs": [
    {
     "name": "stdout",
     "output_type": "stream",
     "text": [
      "P-Value=0.000%\n"
     ]
    }
   ],
   "source": [
    "# Permutation Testing\n",
    "def permutation_sample(data1, data2):\n",
    "    \"\"\"Draws a permuted sample from data1 and data2.\"\"\"\n",
    "    \n",
    "    x = np.concatenate((data1, data2))\n",
    "    x_p = np.random.permutation(x)\n",
    "    d_1 = x_p[:len(data1)]\n",
    "    d_2 = x_p[len(data1):]\n",
    "    \n",
    "    return d_1, d_2\n",
    "\n",
    "def draw_perm_reps(data1, data2, func, size=1):\n",
    "    \"\"\"Computes test statistic func size times from random permutations of data1, data2 datasets.\"\"\"\n",
    "    \n",
    "    p_r = np.empty(size)\n",
    "    for i in range(size):\n",
    "        d_1, d_2 = permutation_sample(data1, data2)\n",
    "        p_r[i] = func(d_1, d_2)\n",
    "    \n",
    "    return p_r\n",
    "\n",
    "def diff_of_proportions(data1, data2):\n",
    "    \"\"\"Computes a difference of proportions between two datasets for Bernoulli trials.\"\"\"\n",
    "    return abs(np.sum(data1) / len(data1) - np.sum(data2)/ len(data2))\n",
    "\n",
    "w_call = w.call.astype(int).values\n",
    "b_call = b.call.astype(int).values\n",
    "\n",
    "# Draw permutation samples\n",
    "num_trials=100\n",
    "prop_bs = draw_perm_reps(w_call, b_call, diff_of_proportions, num_trials)\n",
    "\n",
    "# P-Value\n",
    "p_val = np.sum(prop_bs >= abs(prop_w - prop_b)) / len(prop_bs)\n",
    "print('P-Value={0:0.3%}'.format(p_val))"
   ]
  },
  {
   "cell_type": "markdown",
   "metadata": {},
   "source": [
    "## Conclusions"
   ]
  },
  {
   "cell_type": "markdown",
   "metadata": {},
   "source": [
    "The results of this analysis show there is a significant difference between the rate of callbacks for white-sounding versus black-sounding names, significant at the 0.004% level. A 95% confidence interval implies that white-sounding names get 1.7% to 4.7% more callbacks than black-sounding names.\n",
    "\n",
    "However, we cannot conclude that this is the most important factor in predicting callback success. That is because we have only looked at one variable in isolation and there may be other more predictive variables. To investigate further would require using multivariate methods. For example, logistic regression may be used to deal with the binary dependent variable while allowing for inclusion of multiple covariates."
   ]
  }
 ],
 "metadata": {
  "kernelspec": {
   "display_name": "Python 3",
   "language": "python",
   "name": "python3"
  },
  "language_info": {
   "codemirror_mode": {
    "name": "ipython",
    "version": 3
   },
   "file_extension": ".py",
   "mimetype": "text/x-python",
   "name": "python",
   "nbconvert_exporter": "python",
   "pygments_lexer": "ipython3",
   "version": "3.6.8"
  }
 },
 "nbformat": 4,
 "nbformat_minor": 1
}
