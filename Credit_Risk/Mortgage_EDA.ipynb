{
 "cells": [
  {
   "cell_type": "markdown",
   "metadata": {},
   "source": [
    "Project: Capstone Project 1: Exploratory Data Analysis\n",
    " Students typically spend 4 - 12 Hours\n",
    "\n",
    "- At this point, you’ve obtained the dataset for your capstone project, cleaned, and wrangled it into a form that's ready for analysis. It's now time to apply the inferential statistics techniques you’ve learned to explore the data.\n",
    "\n",
    "- Based on your dataset, the questions that interest you, and the results of the visualization techniques that you used previously, you might end up using only a few of the inferential techniques that you’ve learned. Your specific situation determines how much time it’ll take you to complete this project. Talk to your mentor to determine the most appropriate approach to take for your project. You may find yourself revisiting the analytical framework that you first used to develop your proposal questions. It’s fine to refine your questions more as you get deeper into your data and find interesting patterns and answers. Remember to stay in touch with your mentor to remain focused on the scope of your project\n",
    "\n",
    "Think of the following questions and apply them to your dataset:\n",
    "\n",
    "- Are there variables that are particularly significant in terms of explaining the answer to your project question?\n",
    "\n",
    "- Are there strong correlations between pairs of independent variables or between an independent and a dependent variable?\n",
    "\n",
    "- What are the most appropriate tests to use to analyse these relationships?\n",
    "\n",
    "Submission: Write a 1-2 page report on the steps and findings of your inferential statistical analysis. Upload this report to your GitHub and submit a link. Eventually, this report can be incorporated into your milestone report."
   ]
  },
  {
   "cell_type": "code",
   "execution_count": null,
   "metadata": {},
   "outputs": [],
   "source": []
  }
 ],
 "metadata": {
  "kernelspec": {
   "display_name": "Python 3",
   "language": "python",
   "name": "python3"
  },
  "language_info": {
   "codemirror_mode": {
    "name": "ipython",
    "version": 3
   },
   "file_extension": ".py",
   "mimetype": "text/x-python",
   "name": "python",
   "nbconvert_exporter": "python",
   "pygments_lexer": "ipython3",
   "version": "3.6.8"
  }
 },
 "nbformat": 4,
 "nbformat_minor": 2
}
