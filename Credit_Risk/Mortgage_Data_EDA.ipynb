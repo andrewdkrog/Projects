{
 "cells": [
  {
   "cell_type": "markdown",
   "metadata": {},
   "source": [
    "# Mortgage Credit Risk Analytics: Data Wrangling & Exploration"
   ]
  },
  {
   "cell_type": "markdown",
   "metadata": {},
   "source": [
    "The broader macroeconomic story is evident from exploring the plots of the macro variables included in the dataset: GDP, unemployment, and the national housing price index. The data is consistent with the well known story of the financial crisis in the late 2000's. Central to the crisis (and without diving into the causes and broader consequences), housing prices experienced a collapse that was unprecedented in the United States in modern times.\n",
    "\n",
    "The consequence of this was that large numbers of mortgages that were otherwise considered to have acceptable risk profiles went underwater as the value of the asset became worth less than the remaining balance of the mortgage. This is evident in the distribution of the loan-to-value ratio over time and the corresponding drop in the national housing price index. At this same point in time, the rates of loan repayment fall sharply and default rates skyrocketed.\n",
    "\n",
    "This initial exploration looked at the broad trends in our dataset and the feedback loop between the housing market and the broader macroeconomic environment. However, it did not investigate if there are individual-level predictors that could have been used to identify loans at higher risk of default. The factors looked at in isolation in this analysis do not appear to be obvious predictors of default and it will need to be further investigated whether there are certain specifications or combinations of factors in the dataset that can be used to predict mortgage defaults."
   ]
  },
  {
   "cell_type": "markdown",
   "metadata": {},
   "source": [
    "Link to dataset: http://www.creditriskanalytics.net/datasets-private.html\n",
    "Data is available by selecting \"Mortgage (Compressed)\" in the \"For R and Other Packages\" section"
   ]
  },
  {
   "cell_type": "code",
   "execution_count": 1,
   "metadata": {},
   "outputs": [],
   "source": [
    "# Import dependencies\n",
    "import numpy as np\n",
    "import joypy\n",
    "import pandas as pd\n",
    "from matplotlib import pyplot as plt\n",
    "from matplotlib import cm\n",
    "import seaborn as sns\n",
    "from scipy import stats"
   ]
  },
  {
   "cell_type": "code",
   "execution_count": 2,
   "metadata": {},
   "outputs": [],
   "source": [
    "# Import credit risk dataset\n",
    "df = pd.read_csv(r\"C:\\Users\\andre\\OneDrive\\Springboard\\Large_Data\\mortgage.csv\")"
   ]
  },
  {
   "cell_type": "code",
   "execution_count": 3,
   "metadata": {},
   "outputs": [
    {
     "name": "stdout",
     "output_type": "stream",
     "text": [
      "<class 'pandas.core.frame.DataFrame'>\n",
      "RangeIndex: 622489 entries, 0 to 622488\n",
      "Data columns (total 23 columns):\n",
      "id                         622489 non-null int64\n",
      "time                       622489 non-null int64\n",
      "orig_time                  622489 non-null int64\n",
      "first_time                 622489 non-null int64\n",
      "mat_time                   622489 non-null int64\n",
      "balance_time               622489 non-null float64\n",
      "LTV_time                   622219 non-null float64\n",
      "interest_rate_time         622489 non-null float64\n",
      "hpi_time                   622489 non-null float64\n",
      "gdp_time                   622489 non-null float64\n",
      "uer_time                   622489 non-null float64\n",
      "REtype_CO_orig_time        622489 non-null int64\n",
      "REtype_PU_orig_time        622489 non-null int64\n",
      "REtype_SF_orig_time        622489 non-null int64\n",
      "investor_orig_time         622489 non-null int64\n",
      "balance_orig_time          622489 non-null float64\n",
      "FICO_orig_time             622489 non-null int64\n",
      "LTV_orig_time              622489 non-null float64\n",
      "Interest_Rate_orig_time    622489 non-null float64\n",
      "hpi_orig_time              622489 non-null float64\n",
      "default_time               622489 non-null int64\n",
      "payoff_time                622489 non-null int64\n",
      "status_time                622489 non-null int64\n",
      "dtypes: float64(10), int64(13)\n",
      "memory usage: 109.2 MB\n"
     ]
    }
   ],
   "source": [
    "# Inspect data types and counts in dataframe\n",
    "df.info()"
   ]
  },
  {
   "cell_type": "code",
   "execution_count": 4,
   "metadata": {},
   "outputs": [
    {
     "data": {
      "text/html": [
       "<div>\n",
       "<style scoped>\n",
       "    .dataframe tbody tr th:only-of-type {\n",
       "        vertical-align: middle;\n",
       "    }\n",
       "\n",
       "    .dataframe tbody tr th {\n",
       "        vertical-align: top;\n",
       "    }\n",
       "\n",
       "    .dataframe thead th {\n",
       "        text-align: right;\n",
       "    }\n",
       "</style>\n",
       "<table border=\"1\" class=\"dataframe\">\n",
       "  <thead>\n",
       "    <tr style=\"text-align: right;\">\n",
       "      <th></th>\n",
       "      <th>id</th>\n",
       "      <th>time</th>\n",
       "      <th>orig_time</th>\n",
       "      <th>first_time</th>\n",
       "      <th>mat_time</th>\n",
       "      <th>balance_time</th>\n",
       "      <th>LTV_time</th>\n",
       "      <th>interest_rate_time</th>\n",
       "      <th>hpi_time</th>\n",
       "      <th>gdp_time</th>\n",
       "      <th>...</th>\n",
       "      <th>REtype_SF_orig_time</th>\n",
       "      <th>investor_orig_time</th>\n",
       "      <th>balance_orig_time</th>\n",
       "      <th>FICO_orig_time</th>\n",
       "      <th>LTV_orig_time</th>\n",
       "      <th>Interest_Rate_orig_time</th>\n",
       "      <th>hpi_orig_time</th>\n",
       "      <th>default_time</th>\n",
       "      <th>payoff_time</th>\n",
       "      <th>status_time</th>\n",
       "    </tr>\n",
       "  </thead>\n",
       "  <tbody>\n",
       "    <tr>\n",
       "      <th>0</th>\n",
       "      <td>1</td>\n",
       "      <td>25</td>\n",
       "      <td>-7</td>\n",
       "      <td>25</td>\n",
       "      <td>113</td>\n",
       "      <td>41303.42</td>\n",
       "      <td>24.498336</td>\n",
       "      <td>9.2</td>\n",
       "      <td>226.29</td>\n",
       "      <td>2.899137</td>\n",
       "      <td>...</td>\n",
       "      <td>1</td>\n",
       "      <td>0</td>\n",
       "      <td>45000.0</td>\n",
       "      <td>715</td>\n",
       "      <td>69.4</td>\n",
       "      <td>9.2</td>\n",
       "      <td>87.03</td>\n",
       "      <td>0</td>\n",
       "      <td>0</td>\n",
       "      <td>0</td>\n",
       "    </tr>\n",
       "    <tr>\n",
       "      <th>1</th>\n",
       "      <td>1</td>\n",
       "      <td>26</td>\n",
       "      <td>-7</td>\n",
       "      <td>25</td>\n",
       "      <td>113</td>\n",
       "      <td>41061.95</td>\n",
       "      <td>24.483867</td>\n",
       "      <td>9.2</td>\n",
       "      <td>225.10</td>\n",
       "      <td>2.151365</td>\n",
       "      <td>...</td>\n",
       "      <td>1</td>\n",
       "      <td>0</td>\n",
       "      <td>45000.0</td>\n",
       "      <td>715</td>\n",
       "      <td>69.4</td>\n",
       "      <td>9.2</td>\n",
       "      <td>87.03</td>\n",
       "      <td>0</td>\n",
       "      <td>0</td>\n",
       "      <td>0</td>\n",
       "    </tr>\n",
       "    <tr>\n",
       "      <th>2</th>\n",
       "      <td>1</td>\n",
       "      <td>27</td>\n",
       "      <td>-7</td>\n",
       "      <td>25</td>\n",
       "      <td>113</td>\n",
       "      <td>40804.42</td>\n",
       "      <td>24.626795</td>\n",
       "      <td>9.2</td>\n",
       "      <td>222.39</td>\n",
       "      <td>2.361722</td>\n",
       "      <td>...</td>\n",
       "      <td>1</td>\n",
       "      <td>0</td>\n",
       "      <td>45000.0</td>\n",
       "      <td>715</td>\n",
       "      <td>69.4</td>\n",
       "      <td>9.2</td>\n",
       "      <td>87.03</td>\n",
       "      <td>0</td>\n",
       "      <td>0</td>\n",
       "      <td>0</td>\n",
       "    </tr>\n",
       "    <tr>\n",
       "      <th>3</th>\n",
       "      <td>1</td>\n",
       "      <td>28</td>\n",
       "      <td>-7</td>\n",
       "      <td>25</td>\n",
       "      <td>113</td>\n",
       "      <td>40483.89</td>\n",
       "      <td>24.735883</td>\n",
       "      <td>9.2</td>\n",
       "      <td>219.67</td>\n",
       "      <td>1.229172</td>\n",
       "      <td>...</td>\n",
       "      <td>1</td>\n",
       "      <td>0</td>\n",
       "      <td>45000.0</td>\n",
       "      <td>715</td>\n",
       "      <td>69.4</td>\n",
       "      <td>9.2</td>\n",
       "      <td>87.03</td>\n",
       "      <td>0</td>\n",
       "      <td>0</td>\n",
       "      <td>0</td>\n",
       "    </tr>\n",
       "    <tr>\n",
       "      <th>4</th>\n",
       "      <td>1</td>\n",
       "      <td>29</td>\n",
       "      <td>-7</td>\n",
       "      <td>25</td>\n",
       "      <td>113</td>\n",
       "      <td>40367.06</td>\n",
       "      <td>24.925476</td>\n",
       "      <td>9.2</td>\n",
       "      <td>217.37</td>\n",
       "      <td>1.692969</td>\n",
       "      <td>...</td>\n",
       "      <td>1</td>\n",
       "      <td>0</td>\n",
       "      <td>45000.0</td>\n",
       "      <td>715</td>\n",
       "      <td>69.4</td>\n",
       "      <td>9.2</td>\n",
       "      <td>87.03</td>\n",
       "      <td>0</td>\n",
       "      <td>0</td>\n",
       "      <td>0</td>\n",
       "    </tr>\n",
       "  </tbody>\n",
       "</table>\n",
       "<p>5 rows × 23 columns</p>\n",
       "</div>"
      ],
      "text/plain": [
       "   id  time  orig_time  first_time  mat_time  balance_time   LTV_time  \\\n",
       "0   1    25         -7          25       113      41303.42  24.498336   \n",
       "1   1    26         -7          25       113      41061.95  24.483867   \n",
       "2   1    27         -7          25       113      40804.42  24.626795   \n",
       "3   1    28         -7          25       113      40483.89  24.735883   \n",
       "4   1    29         -7          25       113      40367.06  24.925476   \n",
       "\n",
       "   interest_rate_time  hpi_time  gdp_time  ...  REtype_SF_orig_time  \\\n",
       "0                 9.2    226.29  2.899137  ...                    1   \n",
       "1                 9.2    225.10  2.151365  ...                    1   \n",
       "2                 9.2    222.39  2.361722  ...                    1   \n",
       "3                 9.2    219.67  1.229172  ...                    1   \n",
       "4                 9.2    217.37  1.692969  ...                    1   \n",
       "\n",
       "   investor_orig_time  balance_orig_time  FICO_orig_time  LTV_orig_time  \\\n",
       "0                   0            45000.0             715           69.4   \n",
       "1                   0            45000.0             715           69.4   \n",
       "2                   0            45000.0             715           69.4   \n",
       "3                   0            45000.0             715           69.4   \n",
       "4                   0            45000.0             715           69.4   \n",
       "\n",
       "   Interest_Rate_orig_time  hpi_orig_time  default_time  payoff_time  \\\n",
       "0                      9.2          87.03             0            0   \n",
       "1                      9.2          87.03             0            0   \n",
       "2                      9.2          87.03             0            0   \n",
       "3                      9.2          87.03             0            0   \n",
       "4                      9.2          87.03             0            0   \n",
       "\n",
       "   status_time  \n",
       "0            0  \n",
       "1            0  \n",
       "2            0  \n",
       "3            0  \n",
       "4            0  \n",
       "\n",
       "[5 rows x 23 columns]"
      ]
     },
     "execution_count": 4,
     "metadata": {},
     "output_type": "execute_result"
    }
   ],
   "source": [
    "df.head()"
   ]
  },
  {
   "cell_type": "markdown",
   "metadata": {},
   "source": [
    "### Data Exploration & Verification"
   ]
  },
  {
   "cell_type": "markdown",
   "metadata": {},
   "source": [
    "#### Number of Unique Mortgages"
   ]
  },
  {
   "cell_type": "markdown",
   "metadata": {},
   "source": [
    "Verify there are 50,000 unique mortgages in the dataset"
   ]
  },
  {
   "cell_type": "code",
   "execution_count": 5,
   "metadata": {},
   "outputs": [
    {
     "data": {
      "text/plain": [
       "'There are 50000 unique mortgages in the dataset'"
      ]
     },
     "execution_count": 5,
     "metadata": {},
     "output_type": "execute_result"
    }
   ],
   "source": [
    "mortgage_count = len(df.groupby('id').count().reset_index().index)\n",
    "f'There are {mortgage_count} unique mortgages in the dataset'"
   ]
  },
  {
   "cell_type": "markdown",
   "metadata": {},
   "source": [
    "#### Censored Observations"
   ]
  },
  {
   "cell_type": "markdown",
   "metadata": {},
   "source": [
    "How many mortgages in the dataset are censored?"
   ]
  },
  {
   "cell_type": "code",
   "execution_count": 6,
   "metadata": {},
   "outputs": [
    {
     "name": "stdout",
     "output_type": "stream",
     "text": [
      "default_time    15158\n",
      "payoff_time     26589\n",
      "dtype: int64\n"
     ]
    }
   ],
   "source": [
    "# sum the 'default time' and 'payoff time' to get total number of defaults and paid off mortgages over the 15 years of data\n",
    "censored_counts = df[['default_time','payoff_time']].sum()\n",
    "print(censored_counts)"
   ]
  },
  {
   "cell_type": "code",
   "execution_count": 7,
   "metadata": {},
   "outputs": [
    {
     "data": {
      "text/plain": [
       "'Out of the total 50000 unique mortgages, 15158 defaulted and 26589 were paid off within the time frame of the dataset'"
      ]
     },
     "execution_count": 7,
     "metadata": {},
     "output_type": "execute_result"
    }
   ],
   "source": [
    "f'Out of the total {mortgage_count} unique mortgages, {censored_counts[0]} defaulted and {censored_counts[1]} were paid off within the time frame of the dataset'"
   ]
  },
  {
   "cell_type": "code",
   "execution_count": 8,
   "metadata": {},
   "outputs": [
    {
     "data": {
      "text/plain": [
       "'The remaining 8253 mortgages are right-censored because we do not observe default or payoff.'"
      ]
     },
     "execution_count": 8,
     "metadata": {},
     "output_type": "execute_result"
    }
   ],
   "source": [
    "f'The remaining {mortgage_count - censored_counts.sum()} mortgages are right-censored because we do not observe default or payoff.'"
   ]
  },
  {
   "cell_type": "code",
   "execution_count": 9,
   "metadata": {},
   "outputs": [
    {
     "data": {
      "text/plain": [
       "'For techniques that cannot use censored observations 16.506% of the mortgages need to be thrown out.'"
      ]
     },
     "execution_count": 9,
     "metadata": {},
     "output_type": "execute_result"
    }
   ],
   "source": [
    "f'For techniques that cannot use censored observations {(mortgage_count - censored_counts.sum())/mortgage_count*100}% of the mortgages need to be thrown out.'"
   ]
  },
  {
   "cell_type": "markdown",
   "metadata": {},
   "source": [
    "##### Macro Variables"
   ]
  },
  {
   "cell_type": "code",
   "execution_count": 10,
   "metadata": {},
   "outputs": [],
   "source": [
    "# Create series of quarters starting with Q3 1999, the first quarter in the dataset\n",
    "quarters = pd.Series(pd.date_range(start='1999-07-01', periods=60, freq='3M').to_period(\"Q\"))\n",
    "df_time_list = pd.Series(range(1,61))\n",
    "date_index = pd.concat([df_time_list, quarters], axis=1)\n",
    "date_index.columns = ['Time', 'Quarter']\n",
    "\n",
    "# Create dataframe of macro variables\n",
    "macros = df.groupby('time')[['hpi_time','gdp_time','uer_time']].mean().reset_index()\n",
    "macros = macros.merge(date_index, left_on = 'time', right_on = 'Time', how = 'left')\n",
    "macros = macros.set_index('Quarter')\n",
    "macros.index = pd.date_range(start='1999-07-01', periods=60, freq='3M')"
   ]
  },
  {
   "cell_type": "code",
   "execution_count": 11,
   "metadata": {
    "scrolled": true
   },
   "outputs": [
    {
     "name": "stdout",
     "output_type": "stream",
     "text": [
      "<class 'pandas.core.frame.DataFrame'>\n",
      "DatetimeIndex: 60 entries, 1999-07-31 to 2014-04-30\n",
      "Freq: 3M\n",
      "Data columns (total 5 columns):\n",
      "time        60 non-null int64\n",
      "hpi_time    60 non-null float64\n",
      "gdp_time    60 non-null float64\n",
      "uer_time    60 non-null float64\n",
      "Time        60 non-null int64\n",
      "dtypes: float64(3), int64(2)\n",
      "memory usage: 2.8 KB\n"
     ]
    }
   ],
   "source": [
    "macros.info()"
   ]
  },
  {
   "cell_type": "markdown",
   "metadata": {},
   "source": [
    "How did the national house price index evolve over time?"
   ]
  },
  {
   "cell_type": "code",
   "execution_count": 12,
   "metadata": {},
   "outputs": [
    {
     "name": "stderr",
     "output_type": "stream",
     "text": [
      "C:\\Users\\andre\\AppData\\Local\\Continuum\\anaconda3\\lib\\site-packages\\pandas\\plotting\\_converter.py:129: FutureWarning: Using an implicitly registered datetime converter for a matplotlib plotting method. The converter was registered by pandas on import. Future versions of pandas will require you to explicitly register matplotlib converters.\n",
      "\n",
      "To register the converters:\n",
      "\t>>> from pandas.plotting import register_matplotlib_converters\n",
      "\t>>> register_matplotlib_converters()\n",
      "  warnings.warn(msg, FutureWarning)\n"
     ]
    },
    {
     "data": {
      "text/plain": [
       "Text(0.5, 1.0, 'National House Price Index')"
      ]
     },
     "execution_count": 12,
     "metadata": {},
     "output_type": "execute_result"
    },
    {
     "data": {
      "image/png": "[encoded data removed]",
      "text/plain": [
       "<Figure size 432x288 with 1 Axes>"
      ]
     },
     "metadata": {
      "needs_background": "light"
     },
     "output_type": "display_data"
    }
   ],
   "source": [
    "%matplotlib inline\n",
    "\n",
    "# Plot the house price index time series in blue\n",
    "plt.plot(macros['hpi_time'], color='blue', label='National House Price Index')\n",
    "plt.title('National House Price Index')"
   ]
  },
  {
   "cell_type": "markdown",
   "metadata": {},
   "source": [
    "The housing boom which lasted through 2006 shows the national housing index more than doubling from the start of the dataset through 2005, before plummeting prior to and during the financial crisis."
   ]
  },
  {
   "cell_type": "markdown",
   "metadata": {},
   "source": [
    "How did GDP growth and unemployment change over time, particularly in relation to housing prices?"
   ]
  },
  {
   "cell_type": "code",
   "execution_count": 13,
   "metadata": {
    "scrolled": true
   },
   "outputs": [
    {
     "data": {
      "text/plain": [
       "<matplotlib.legend.Legend at 0x228a6ff22b0>"
      ]
     },
     "execution_count": 13,
     "metadata": {},
     "output_type": "execute_result"
    },
    {
     "data": {
      "image/png": "[encoded data removed]",
      "text/plain": [
       "<Figure size 432x288 with 1 Axes>"
      ]
     },
     "metadata": {
      "needs_background": "light"
     },
     "output_type": "display_data"
    }
   ],
   "source": [
    "%matplotlib inline\n",
    "\n",
    "# Plot the house price index time series in blue\n",
    "plt.plot(macros['gdp_time'], color='black', label='GDP Growth (Yoy %)')\n",
    "plt.plot(macros['uer_time'], color='red', label='Unemployment Rate (%)')\n",
    "\n",
    "plt.title('U.S. GDP Growth and Unemployment Rate')\n",
    "plt.legend(loc='upper left')"
   ]
  },
  {
   "cell_type": "markdown",
   "metadata": {},
   "source": [
    "GDP growth went negative at the end of 2007, a lag of about a year from when houses prices started their decline. The unemployment rate increase followed the downturn in GDP and slowly normalized as growth returned to the normal quarterly rate of 1-3%."
   ]
  },
  {
   "cell_type": "markdown",
   "metadata": {},
   "source": [
    "### Impact of Macro Variables on Loan Characteristics"
   ]
  },
  {
   "cell_type": "markdown",
   "metadata": {},
   "source": [
    "How did mortgage loan-to-value ratios (one metric used to estimate the riskiness of the loan) change as macroeconomic conditions worsened?"
   ]
  },
  {
   "cell_type": "code",
   "execution_count": 14,
   "metadata": {},
   "outputs": [],
   "source": [
    "# Create dataframe of average loan-to-value ratio for each quarter and compare to national housing price index\n",
    "ltv_hpi = df.groupby('time')[['LTV_time', 'hpi_time']].mean().reset_index()\n",
    "ltv_hpi.index = pd.date_range(start='1999-07-01', periods=60, freq='3M')"
   ]
  },
  {
   "cell_type": "code",
   "execution_count": 15,
   "metadata": {},
   "outputs": [
    {
     "data": {
      "text/plain": [
       "<matplotlib.legend.Legend at 0x228a705eef0>"
      ]
     },
     "execution_count": 15,
     "metadata": {},
     "output_type": "execute_result"
    },
    {
     "data": {
      "image/png": "[encoded data removed]",
      "text/plain": [
       "<Figure size 432x288 with 1 Axes>"
      ]
     },
     "metadata": {
      "needs_background": "light"
     },
     "output_type": "display_data"
    }
   ],
   "source": [
    "# Plot the mean loan-to-value ratio with national housing price index\n",
    "plt.plot(ltv_hpi['hpi_time'], color='navy', label='National House Price Index')\n",
    "plt.plot(ltv_hpi['LTV_time'], color='red', label='Mean Loan-to-Value Ratio')\n",
    "\n",
    "plt.title('House Prices and Loan-to-Value Ratios')\n",
    "plt.legend(loc='upper right')"
   ]
  },
  {
   "cell_type": "markdown",
   "metadata": {},
   "source": [
    "The plot above shows that mean loan-to-value ratios were stable during the run up housing prices, but as soon as prices turned downward loan-to-value ratios increased substantially and did not return lower until housing prices began to recover in 2012."
   ]
  },
  {
   "cell_type": "code",
   "execution_count": 16,
   "metadata": {},
   "outputs": [
    {
     "data": {
      "text/plain": [
       "[Text(0, 0.5, 'Mean Loan-to-Value Ratio'),\n",
       " Text(0.5, 0, 'National House Price Index')]"
      ]
     },
     "execution_count": 16,
     "metadata": {},
     "output_type": "execute_result"
    },
    {
     "data": {
      "image/png": "[encoded data removed]",
      "text/plain": [
       "<Figure size 432x288 with 2 Axes>"
      ]
     },
     "metadata": {},
     "output_type": "display_data"
    }
   ],
   "source": [
    "# Create scatter plot tracing out the evolution of loan-to-value ratio vs national house price index over time\n",
    "sns.set_style(\"white\")\n",
    "\n",
    "x = ltv_hpi['hpi_time']\n",
    "y = ltv_hpi['LTV_time']\n",
    "z = ltv_hpi['time']\n",
    "\n",
    "cmap = sns.cubehelix_palette(as_cmap=True)\n",
    "\n",
    "f, ax = plt.subplots()\n",
    "points = ax.scatter(x, y, c=z, s=50, cmap=cmap)\n",
    "f.colorbar(points)\n",
    "ax.set(xlabel='National House Price Index', ylabel='Mean Loan-to-Value Ratio')\n",
    "\n"
   ]
  },
  {
   "cell_type": "markdown",
   "metadata": {},
   "source": [
    "The scatter plot shows the same story as the time series line plots but makes the evolution and turning points more obvious."
   ]
  },
  {
   "cell_type": "code",
   "execution_count": 17,
   "metadata": {},
   "outputs": [],
   "source": [
    "# Create variables for percent of balance paid off and percent of time on loan elapsed\n",
    "df['elapsed_perc'] = (df.time - df.orig_time)/(df.mat_time - df.orig_time)\n",
    "\n",
    "df['perc_bal_paid'] = (df.balance_orig_time - df.balance_time)/df.balance_orig_time\n"
   ]
  },
  {
   "cell_type": "code",
   "execution_count": 18,
   "metadata": {
    "scrolled": true
   },
   "outputs": [],
   "source": [
    "df = df.merge(date_index, left_on = 'time', right_on = 'Time', how = 'left')"
   ]
  },
  {
   "cell_type": "code",
   "execution_count": 19,
   "metadata": {},
   "outputs": [],
   "source": [
    "# Create dataframe of total mortgages and number of defaults and payoffs in each quarter\n",
    "defaults = df.groupby('time')[['id','default_time','payoff_time']].agg({'id':'count',\n",
    "                                                                       'default_time':'sum',\n",
    "                                                                       'payoff_time':'sum'}).reset_index()\n",
    "defaults.columns = ['time','mortgages', 'defaults', 'payoffs']"
   ]
  },
  {
   "cell_type": "code",
   "execution_count": 20,
   "metadata": {},
   "outputs": [],
   "source": [
    "# Set index to quarters\n",
    "defaults.index = pd.date_range(start='1999-07-01', periods=60, freq='3M')"
   ]
  },
  {
   "cell_type": "markdown",
   "metadata": {},
   "source": [
    "How many mortgages are in the dataset for each quarter?"
   ]
  },
  {
   "cell_type": "code",
   "execution_count": 21,
   "metadata": {},
   "outputs": [
    {
     "data": {
      "text/plain": [
       "<matplotlib.legend.Legend at 0x228a7185828>"
      ]
     },
     "execution_count": 21,
     "metadata": {},
     "output_type": "execute_result"
    },
    {
     "data": {
      "image/png": "[encoded data removed]",
      "text/plain": [
       "<Figure size 432x288 with 1 Axes>"
      ]
     },
     "metadata": {
      "needs_background": "light"
     },
     "output_type": "display_data"
    }
   ],
   "source": [
    "%matplotlib inline\n",
    "\n",
    "# Plot the share of defaults and payoffs\n",
    "plt.plot(defaults['mortgages'], color='navy', label = 'Number of Mortgages')\n",
    "\n",
    "plt.title('Total Active Mortgages by Quarter')\n",
    "plt.legend(loc='upper right')"
   ]
  },
  {
   "cell_type": "markdown",
   "metadata": {},
   "source": [
    "Do the proportion of mortgages being paid off or defaulted on change over time? Do changes in these rates correspond to changes in macro variables like house price index, GDP growth, and unemployment?"
   ]
  },
  {
   "cell_type": "code",
   "execution_count": 22,
   "metadata": {},
   "outputs": [],
   "source": [
    "# Create share of mortgages in each period defaulting and being paid off\n",
    "defaults['def_percent'] = defaults['defaults']/defaults['mortgages']\n",
    "defaults['payoff_percent'] = defaults['payoffs']/defaults['mortgages']"
   ]
  },
  {
   "cell_type": "markdown",
   "metadata": {},
   "source": [
    "The time series chart below shows the rates of mortgages paid off fall sharply and default rates increase substantially as housing prices were falling"
   ]
  },
  {
   "cell_type": "code",
   "execution_count": 23,
   "metadata": {},
   "outputs": [
    {
     "data": {
      "text/plain": [
       "<matplotlib.legend.Legend at 0x228a723efd0>"
      ]
     },
     "execution_count": 23,
     "metadata": {},
     "output_type": "execute_result"
    },
    {
     "data": {
      "image/png": "[encoded data removed]",
      "text/plain": [
       "<Figure size 432x288 with 1 Axes>"
      ]
     },
     "metadata": {
      "needs_background": "light"
     },
     "output_type": "display_data"
    }
   ],
   "source": [
    "%matplotlib inline\n",
    "\n",
    "# Plot the share of defaults and payoffs\n",
    "plt.plot(defaults['def_percent'], color='red', label='Share of Mortgages Defaulted')\n",
    "plt.plot(defaults['payoff_percent'], color='black', label='Share of Mortgages Paid Off')\n",
    "\n",
    "plt.title('Mortgage Payoffs and Defaults Over Time')\n",
    "plt.legend(loc='upper right')"
   ]
  },
  {
   "cell_type": "markdown",
   "metadata": {},
   "source": [
    "### Loan-to-Value Ratio Distribution Over Time"
   ]
  },
  {
   "cell_type": "markdown",
   "metadata": {},
   "source": [
    "Is the distribution of loan-to-value stable over time?"
   ]
  },
  {
   "cell_type": "code",
   "execution_count": 24,
   "metadata": {},
   "outputs": [
    {
     "data": {
      "image/png": "[encoded data removed]",
      "text/plain": [
       "<Figure size 864x720 with 61 Axes>"
      ]
     },
     "metadata": {
      "needs_background": "light"
     },
     "output_type": "display_data"
    }
   ],
   "source": [
    "%matplotlib inline\n",
    "\n",
    "fig, axes = joypy.joyplot(df, by=\"Quarter\", column=\"LTV_time\", range_style='own',\n",
    "                          grid=\"y\", linewidth=1, legend=False, fade=False, figsize=(12,10),\n",
    "                          title=\"Loan-to-Value Distributions Over Time\",\n",
    "                          kind=\"kde\", bins=20,\n",
    "                          x_range=[-10,200])"
   ]
  },
  {
   "cell_type": "markdown",
   "metadata": {},
   "source": [
    "# Statistical Tests"
   ]
  },
  {
   "cell_type": "markdown",
   "metadata": {},
   "source": [
    "### Default/Payoff Rates by Type of Building"
   ]
  },
  {
   "cell_type": "code",
   "execution_count": 25,
   "metadata": {},
   "outputs": [],
   "source": [
    "# Create a single variable corresponding to building type (1 = condo, 2 = urban development, 3 = single family home)\n",
    "df['type'] = df['REtype_CO_orig_time'] + 2*df['REtype_PU_orig_time'] + 3*df['REtype_SF_orig_time']"
   ]
  },
  {
   "cell_type": "code",
   "execution_count": 26,
   "metadata": {},
   "outputs": [],
   "source": [
    "# Transform numeric mapping into name of building type\n",
    "type_lookup = {1:\"Condo\",\n",
    "              2:\"Urban Development\",\n",
    "              3:\"Single Family\"}\n",
    "\n",
    "df['mortgage_type'] = df['type'].map(type_lookup)\n"
   ]
  },
  {
   "cell_type": "markdown",
   "metadata": {},
   "source": [
    "Are there differences in the rates of payoffs and defaults between the three types of building (condo, single family, urban development)?"
   ]
  },
  {
   "cell_type": "code",
   "execution_count": 27,
   "metadata": {},
   "outputs": [],
   "source": [
    "# Create dataframe to calculate total number of mortgages, defaults, and payoffs by building type\n",
    "def_by_type = df.groupby(['id','mortgage_type'])[['default_time','payoff_time']].agg({'default_time':'sum',\n",
    "                                        'payoff_time':'sum'}).reset_index()\n",
    "\n",
    "def_by_type = def_by_type.groupby('mortgage_type')['id','default_time','payoff_time'].agg({'id':'count',\n",
    "                                                                                           'default_time':'sum',\n",
    "                                                                                           'payoff_time':'sum'}).reset_index()\n",
    "\n",
    "def_by_type.columns = ['Mortgage Type', 'Count', 'Defaults', 'Paid Off']"
   ]
  },
  {
   "cell_type": "code",
   "execution_count": 28,
   "metadata": {},
   "outputs": [],
   "source": [
    "# Create columns to calculate the share of mortgages by type of building that were paid off or defaulted on\n",
    "def_by_type['Default Percent'] = def_by_type['Defaults']/def_by_type['Count']*100\n",
    "def_by_type['Paid Off Percent'] = def_by_type['Paid Off']/def_by_type['Count']*100"
   ]
  },
  {
   "cell_type": "code",
   "execution_count": 29,
   "metadata": {},
   "outputs": [
    {
     "data": {
      "text/html": [
       "<div>\n",
       "<style scoped>\n",
       "    .dataframe tbody tr th:only-of-type {\n",
       "        vertical-align: middle;\n",
       "    }\n",
       "\n",
       "    .dataframe tbody tr th {\n",
       "        vertical-align: top;\n",
       "    }\n",
       "\n",
       "    .dataframe thead th {\n",
       "        text-align: right;\n",
       "    }\n",
       "</style>\n",
       "<table border=\"1\" class=\"dataframe\">\n",
       "  <thead>\n",
       "    <tr style=\"text-align: right;\">\n",
       "      <th></th>\n",
       "      <th>Mortgage Type</th>\n",
       "      <th>Count</th>\n",
       "      <th>Defaults</th>\n",
       "      <th>Paid Off</th>\n",
       "      <th>Default Percent</th>\n",
       "      <th>Paid Off Percent</th>\n",
       "    </tr>\n",
       "  </thead>\n",
       "  <tbody>\n",
       "    <tr>\n",
       "      <th>0</th>\n",
       "      <td>Condo</td>\n",
       "      <td>3250</td>\n",
       "      <td>1023</td>\n",
       "      <td>1718</td>\n",
       "      <td>31.476923</td>\n",
       "      <td>52.861538</td>\n",
       "    </tr>\n",
       "    <tr>\n",
       "      <th>1</th>\n",
       "      <td>Single Family</td>\n",
       "      <td>31192</td>\n",
       "      <td>9444</td>\n",
       "      <td>16662</td>\n",
       "      <td>30.276994</td>\n",
       "      <td>53.417543</td>\n",
       "    </tr>\n",
       "    <tr>\n",
       "      <th>2</th>\n",
       "      <td>Urban Development</td>\n",
       "      <td>5795</td>\n",
       "      <td>1853</td>\n",
       "      <td>3029</td>\n",
       "      <td>31.975841</td>\n",
       "      <td>52.269198</td>\n",
       "    </tr>\n",
       "  </tbody>\n",
       "</table>\n",
       "</div>"
      ],
      "text/plain": [
       "       Mortgage Type  Count  Defaults  Paid Off  Default Percent  \\\n",
       "0              Condo   3250      1023      1718        31.476923   \n",
       "1      Single Family  31192      9444     16662        30.276994   \n",
       "2  Urban Development   5795      1853      3029        31.975841   \n",
       "\n",
       "   Paid Off Percent  \n",
       "0         52.861538  \n",
       "1         53.417543  \n",
       "2         52.269198  "
      ]
     },
     "execution_count": 29,
     "metadata": {},
     "output_type": "execute_result"
    }
   ],
   "source": [
    "# Display table\n",
    "def_by_type"
   ]
  },
  {
   "cell_type": "markdown",
   "metadata": {},
   "source": [
    "As the table and bar chart show the differences in default/payoff rate between building types are very small"
   ]
  },
  {
   "cell_type": "code",
   "execution_count": 30,
   "metadata": {},
   "outputs": [
    {
     "data": {
      "image/png": "[encoded data removed]",
      "text/plain": [
       "<Figure size 720x432 with 1 Axes>"
      ]
     },
     "metadata": {
      "needs_background": "light"
     },
     "output_type": "display_data"
    }
   ],
   "source": [
    "# Create bar chart to display the differences\n",
    "def_by_type.index = def_by_type['Mortgage Type']\n",
    "\n",
    "ax = def_by_type[['Default Percent','Paid Off Percent']].plot(kind='bar',\n",
    "                                                     figsize=(10, 6),\n",
    "                                                     legend=True,\n",
    "                                                     fontsize=14, \n",
    "                                                     rot=0,\n",
    "                                                     title =\"Default & Pay Off Rate by Type\")\n",
    "ax.set_xlabel(\"\", fontsize=12)\n",
    "ax.set_ylabel(\"Default/Payoff Percent (%)\", fontsize=12)\n",
    "plt.show()"
   ]
  },
  {
   "cell_type": "markdown",
   "metadata": {},
   "source": [
    "However, we will remove the right censored observations and do a formal significance test to determine whether there is a statistically significant difference in rates of default between types of building. Our test will \n",
    "\n",
    "- Null hypothesis: There is no difference in rates of default between condos, single family homes, and urban developments\n",
    "- Alternative hypothesis: There is a difference in rates of default"
   ]
  },
  {
   "cell_type": "markdown",
   "metadata": {},
   "source": [
    "### Investor vs Non-Investor Defaults"
   ]
  },
  {
   "cell_type": "markdown",
   "metadata": {},
   "source": [
    "Is there any difference in rates of default and payoffs between investors and non-investors?"
   ]
  },
  {
   "cell_type": "code",
   "execution_count": 52,
   "metadata": {},
   "outputs": [],
   "source": [
    "# Create dataframe of counts of mortgages by type (investor vs non-investor)\n",
    "# Sums the number of mortgages, total defaults, and total payoffs\n",
    "investor = df.groupby(['id','investor_orig_time'])[['default_time','payoff_time','orig_time']].agg({'default_time':'sum',\n",
    "                                                                                                    'payoff_time':'sum',\n",
    "                                                                                                   'orig_time':'max'}\n",
    "                                                                                                  ).reset_index()\n",
    "\n",
    "investor_summary = investor.groupby('investor_orig_time')[['id', 'default_time','payoff_time']].agg({'id':'count',\n",
    "                                                                                             'default_time':'sum',\n",
    "                                                                                             'payoff_time':'sum'}).reset_index()\n",
    "# Relabel columns\n",
    "investor_summary.columns = ['Investor', 'Count', 'Defaults', 'Payoffs']"
   ]
  },
  {
   "cell_type": "code",
   "execution_count": 53,
   "metadata": {},
   "outputs": [],
   "source": [
    "# Create new columns to calculate the percentage of mortgages by type that were paid off or defaulted on\n",
    "investor_summary['Default Percent'] = investor_summary['Defaults']/investor_summary['Count']*100\n",
    "investor_summary['Payoff Percent'] = investor_summary['Payoffs']/investor_summary['Count']*100"
   ]
  },
  {
   "cell_type": "code",
   "execution_count": 54,
   "metadata": {},
   "outputs": [
    {
     "data": {
      "text/html": [
       "<div>\n",
       "<style scoped>\n",
       "    .dataframe tbody tr th:only-of-type {\n",
       "        vertical-align: middle;\n",
       "    }\n",
       "\n",
       "    .dataframe tbody tr th {\n",
       "        vertical-align: top;\n",
       "    }\n",
       "\n",
       "    .dataframe thead th {\n",
       "        text-align: right;\n",
       "    }\n",
       "</style>\n",
       "<table border=\"1\" class=\"dataframe\">\n",
       "  <thead>\n",
       "    <tr style=\"text-align: right;\">\n",
       "      <th></th>\n",
       "      <th>Investor</th>\n",
       "      <th>Count</th>\n",
       "      <th>Defaults</th>\n",
       "      <th>Payoffs</th>\n",
       "      <th>Default Percent</th>\n",
       "      <th>Payoff Percent</th>\n",
       "    </tr>\n",
       "  </thead>\n",
       "  <tbody>\n",
       "    <tr>\n",
       "      <th>0</th>\n",
       "      <td>0</td>\n",
       "      <td>44092</td>\n",
       "      <td>13196</td>\n",
       "      <td>23753</td>\n",
       "      <td>29.928332</td>\n",
       "      <td>53.871451</td>\n",
       "    </tr>\n",
       "    <tr>\n",
       "      <th>1</th>\n",
       "      <td>1</td>\n",
       "      <td>5922</td>\n",
       "      <td>1962</td>\n",
       "      <td>2836</td>\n",
       "      <td>33.130699</td>\n",
       "      <td>47.889227</td>\n",
       "    </tr>\n",
       "  </tbody>\n",
       "</table>\n",
       "</div>"
      ],
      "text/plain": [
       "   Investor  Count  Defaults  Payoffs  Default Percent  Payoff Percent\n",
       "0         0  44092     13196    23753        29.928332       53.871451\n",
       "1         1   5922      1962     2836        33.130699       47.889227"
      ]
     },
     "execution_count": 54,
     "metadata": {},
     "output_type": "execute_result"
    }
   ],
   "source": [
    "# Display table\n",
    "investor_summary"
   ]
  },
  {
   "cell_type": "markdown",
   "metadata": {},
   "source": [
    "The table and bar charts show that investors had a lower share of mortgages go into default and a higher share paid off than non-investors."
   ]
  },
  {
   "cell_type": "code",
   "execution_count": 55,
   "metadata": {
    "scrolled": false
   },
   "outputs": [
    {
     "data": {
      "image/png": "[encoded data removed]",
      "text/plain": [
       "<Figure size 720x432 with 1 Axes>"
      ]
     },
     "metadata": {
      "needs_background": "light"
     },
     "output_type": "display_data"
    }
   ],
   "source": [
    "# Create barplot comparing default and payoff percentages by investor vs non-investor\n",
    "investor_summary.index = ['Non-Investor', 'Investor']\n",
    "\n",
    "ax = investor_summary[['Default Percent','Payoff Percent']].plot(kind='bar',\n",
    "                                                     figsize=(10, 6),\n",
    "                                                     legend=True,\n",
    "                                                     fontsize=14, \n",
    "                                                     rot=0,\n",
    "                                                     title =\"Default & Pay Off Rate by Type\")\n",
    "ax.set_xlabel(\"\", fontsize=12)\n",
    "ax.set_ylabel(\"Default/Payoff Percent (%)\", fontsize=12)\n",
    "plt.show()"
   ]
  },
  {
   "cell_type": "markdown",
   "metadata": {},
   "source": [
    "#### Test for Statistical Significance"
   ]
  },
  {
   "cell_type": "markdown",
   "metadata": {},
   "source": [
    "While there is visually a discrepancy when looking at all samples, it needs to be tested whether these differences are statistically significant. To do this the data needs to be structured so there is a single observation for each mortgage and all mortgages that are not defaulted on or repaid during our timeframe need to be dropped, because they are right censored."
   ]
  },
  {
   "cell_type": "code",
   "execution_count": 56,
   "metadata": {},
   "outputs": [],
   "source": [
    "# Create variable to sum binary variables for default/repaid to use for filtering\n",
    "investor['uncensored'] = investor['default_time'] + investor['payoff_time']"
   ]
  },
  {
   "cell_type": "code",
   "execution_count": 57,
   "metadata": {},
   "outputs": [],
   "source": [
    "# Filter out observations that are not defaulted on or repaid\n",
    "investor = investor.loc[investor['uncensored'] > 0, ]"
   ]
  },
  {
   "cell_type": "code",
   "execution_count": 61,
   "metadata": {},
   "outputs": [],
   "source": [
    "# Include only observations originated in the 25th quarter of the dataset, to make independence assumption more plausible\n",
    "investor = investor.loc[investor['orig_time'] == 25, ]"
   ]
  },
  {
   "cell_type": "markdown",
   "metadata": {},
   "source": [
    "To test for significance the sample needs to be greater than size 30 and have at least 5 successes and 5 failures in each group. Both conditions are easily met here.\n",
    "\n",
    "- Null hypothesis: rates of default are the same for investors and non-investors\n",
    "- Alternative hypothesis: rates are not the same\n",
    "\n",
    "The hypothesis will be tested at the alpha = 0.05 level.\n",
    "\n",
    "Since the sample is large enough the statistic will be asymptotically normal and a z-test will be used for the difference between the proportion of defaults for each group."
   ]
  },
  {
   "cell_type": "code",
   "execution_count": 62,
   "metadata": {},
   "outputs": [],
   "source": [
    "# Count the number of defaults for investor and non-investor mortgages\n",
    "def_inv = investor.loc[investor['investor_orig_time'] == 1, ]['default_time'].sum()\n",
    "def_non = investor.loc[investor['investor_orig_time'] == 0, ]['default_time'].sum()\n",
    "\n",
    "# Calculate counts of investor and non-investor mortgages\n",
    "n_inv = investor.loc[investor['investor_orig_time'] == 1, ]['default_time'].count()\n",
    "n_non = investor.loc[investor['investor_orig_time'] == 0, ]['default_time'].count()\n",
    "\n",
    "# Calculate the proportion of defaults for investors, non-investors, and the total sample\n",
    "phat_inv = def_inv/n_inv\n",
    "phat_non = def_non/n_non\n",
    "phat_all = (def_inv + def_non)/(n_inv + n_non)"
   ]
  },
  {
   "cell_type": "code",
   "execution_count": 63,
   "metadata": {},
   "outputs": [
    {
     "name": "stdout",
     "output_type": "stream",
     "text": [
      "0.5721925133689839\n",
      "0.5044303797468355\n"
     ]
    }
   ],
   "source": [
    "print(phat_inv)\n",
    "print(phat_non)"
   ]
  },
  {
   "cell_type": "code",
   "execution_count": 64,
   "metadata": {},
   "outputs": [],
   "source": [
    "import math\n",
    "\n",
    "# Calculate z-statistic\n",
    "z_score = (phat_inv - phat_non)/math.sqrt(phat_all*(1-phat_all)*(1/n_inv + 1/n_non))"
   ]
  },
  {
   "cell_type": "code",
   "execution_count": 65,
   "metadata": {},
   "outputs": [
    {
     "name": "stdout",
     "output_type": "stream",
     "text": [
      "Reject null hypothesis\n"
     ]
    }
   ],
   "source": [
    "# Since the test is done at the alpha = 0.05 level, the null hypothesis is rejected if z < -1.96 or z > 1.96\n",
    "if(abs(z_score) > 1.96):\n",
    "    print(\"Reject null hypothesis\")\n",
    "else:\n",
    "    print(\"Fail to reject null hypothesis\")"
   ]
  },
  {
   "cell_type": "markdown",
   "metadata": {},
   "source": [
    "There is a statistically significant difference in the default rates of investors vs non-investors. In our dataset investors defaulted on on 57.2% of their uncensored mortgages while non-investors only defaulted on 50.4%. "
   ]
  },
  {
   "cell_type": "markdown",
   "metadata": {},
   "source": [
    "Calculate 95% confidence interval for the difference in the rate of defaults between investors and non-investors"
   ]
  },
  {
   "cell_type": "code",
   "execution_count": 66,
   "metadata": {},
   "outputs": [],
   "source": [
    "# Calculate the difference in proportions and SE\n",
    "phat_diff = np.abs(phat_inv-phat_non)\n",
    "std_error = np.sqrt(phat_all * (1-phat_all) * ((1./def_inv) + (1./def_non)))\n",
    "\n",
    "# Calculate z-score\n",
    "z = phat_diff / std_error\n",
    "\n",
    "#Assume a confidence level of 0.95\n",
    "CL = 0.95\n",
    "\n",
    "#Calculate the margin of error\n",
    "moe = stats.norm.ppf(1-((1-CL)/2)) * std_error\n",
    "\n",
    "#Calculate the 95% CI from the difference of proportions\n",
    "ci_lower, ci_upper = stats.norm.interval(CL, loc=phat_diff, scale=std_error)\n",
    "\n",
    "#Calculate the p-value \n",
    "p_value = (1-stats.norm.cdf(z))*2"
   ]
  },
  {
   "cell_type": "code",
   "execution_count": 67,
   "metadata": {},
   "outputs": [
    {
     "name": "stdout",
     "output_type": "stream",
     "text": [
      "Margin of error: 0.06\n",
      "95 Percent Confidence interval: 0.008 to 0.128\n",
      "P-Value: 0.0266754\n"
     ]
    }
   ],
   "source": [
    "print('Margin of error: %.2f' % (moe))\n",
    "print('95 Percent Confidence interval: %.3f to %.3f' % (ci_lower, ci_upper))\n",
    "print('P-Value: %.7f' % (p_value))"
   ]
  },
  {
   "cell_type": "markdown",
   "metadata": {},
   "source": [
    "A 95% confidence interval for the difference between rates of defaults for investors and non-investors is 2.9% to 7.5%."
   ]
  },
  {
   "cell_type": "markdown",
   "metadata": {},
   "source": [
    "# Default vs Repaid Distibution of Loan-to-Value and FICO Score"
   ]
  },
  {
   "cell_type": "markdown",
   "metadata": {},
   "source": [
    "Drop values that are right censored to compare distribution between mortgages that go into default vs those repaid"
   ]
  },
  {
   "cell_type": "code",
   "execution_count": 68,
   "metadata": {},
   "outputs": [],
   "source": [
    "# Filter based on rows that only have non-zero value for 'status_time' which means they were either defaulted on or fully paid\n",
    "df_reg = df.loc[df.status_time > 0 , ]"
   ]
  },
  {
   "cell_type": "markdown",
   "metadata": {},
   "source": [
    "The distribution of loan-to-value of mortgages look similar for default vs repaid. The repaid appear to have a fatter tail to the left, but a more rigorous comparison would need to be made. Either way the distributions are more similar than you might expect and it does not seem that loan-to-value on its own would be a good predictor of default, although that doesn't mean it wouldn't be when used in combination with other predictors."
   ]
  },
  {
   "cell_type": "code",
   "execution_count": 69,
   "metadata": {},
   "outputs": [],
   "source": [
    "# Filter for loans originated in 25th quarter\n",
    "df_reg = df_reg.loc[df_reg['orig_time'] == 25, ]"
   ]
  },
  {
   "cell_type": "code",
   "execution_count": 70,
   "metadata": {},
   "outputs": [],
   "source": [
    "# Significance test to see whether FICO scores at \n",
    "df_FICO = df_reg.groupby('id')[['FICO_orig_time', 'status_time']].agg({'FICO_orig_time':'max',\n",
    "                                                                   'status_time':'sum'}).reset_index()"
   ]
  },
  {
   "cell_type": "code",
   "execution_count": 71,
   "metadata": {},
   "outputs": [],
   "source": [
    "df_FICO = df_FICO.loc[df_FICO.status_time > 0, ]"
   ]
  },
  {
   "cell_type": "code",
   "execution_count": 72,
   "metadata": {},
   "outputs": [
    {
     "data": {
      "image/png": "[encoded data removed]",
      "text/plain": [
       "<Figure size 720x720 with 3 Axes>"
      ]
     },
     "metadata": {
      "needs_background": "light"
     },
     "output_type": "display_data"
    }
   ],
   "source": [
    "# Create plot to see difference in distribution of loan-to-value for mortgages that defaulted and those that were repaid\n",
    "%matplotlib inline\n",
    "\n",
    "fig, axes = joypy.joyplot(df_reg, by=\"default_time\", column=\"LTV_orig_time\", range_style='own',\n",
    "                          grid=\"y\", linewidth=1, legend=False, fade=True, figsize=(10,10),\n",
    "                          labels = ['Repaid', 'Defaulted'],\n",
    "                          title=\"Loan-to-Value Distribution of Mortgages Repaid vs Defaulted On\",\n",
    "                          kind=\"kde\", bins=20,\n",
    "                          x_range=[50,110])"
   ]
  },
  {
   "cell_type": "markdown",
   "metadata": {},
   "source": [
    "The difference in FICO score distributions is more evident than it was for loan-to-value ratios. In particular, the repaid distribution has significantly more of its distribution in the 700+ FICO score range."
   ]
  },
  {
   "cell_type": "code",
   "execution_count": 73,
   "metadata": {},
   "outputs": [
    {
     "data": {
      "image/png": "[encoded data removed]",
      "text/plain": [
       "<Figure size 720x360 with 3 Axes>"
      ]
     },
     "metadata": {
      "needs_background": "light"
     },
     "output_type": "display_data"
    }
   ],
   "source": [
    "# Create plot to see difference in distribution of FICO Scores for mortgages that defaulted and those that were repaid\n",
    "%matplotlib inline\n",
    "\n",
    "fig, axes = joypy.joyplot(df_reg, by=\"default_time\", column=\"FICO_orig_time\", range_style='own',\n",
    "                          grid=\"y\", linewidth=1, legend=False, fade=True, figsize=(10,5),\n",
    "                          labels = ['Repaid', 'Defaulted'],\n",
    "                          title=\"FICO Score Distribution of Mortgages Repaid vs Defaulted On\",\n",
    "                          kind=\"kde\", bins=20,\n",
    "                          x_range=[400, 850])"
   ]
  },
  {
   "cell_type": "code",
   "execution_count": 74,
   "metadata": {},
   "outputs": [
    {
     "data": {
      "text/html": [
       "<div>\n",
       "<style scoped>\n",
       "    .dataframe tbody tr th:only-of-type {\n",
       "        vertical-align: middle;\n",
       "    }\n",
       "\n",
       "    .dataframe tbody tr th {\n",
       "        vertical-align: top;\n",
       "    }\n",
       "\n",
       "    .dataframe thead th {\n",
       "        text-align: right;\n",
       "    }\n",
       "</style>\n",
       "<table border=\"1\" class=\"dataframe\">\n",
       "  <thead>\n",
       "    <tr style=\"text-align: right;\">\n",
       "      <th></th>\n",
       "      <th>id</th>\n",
       "      <th>time</th>\n",
       "      <th>orig_time</th>\n",
       "      <th>first_time</th>\n",
       "      <th>mat_time</th>\n",
       "      <th>balance_time</th>\n",
       "      <th>LTV_time</th>\n",
       "      <th>interest_rate_time</th>\n",
       "      <th>hpi_time</th>\n",
       "      <th>gdp_time</th>\n",
       "      <th>...</th>\n",
       "      <th>hpi_orig_time</th>\n",
       "      <th>default_time</th>\n",
       "      <th>payoff_time</th>\n",
       "      <th>status_time</th>\n",
       "      <th>elapsed_perc</th>\n",
       "      <th>perc_bal_paid</th>\n",
       "      <th>Time</th>\n",
       "      <th>Quarter</th>\n",
       "      <th>type</th>\n",
       "      <th>mortgage_type</th>\n",
       "    </tr>\n",
       "  </thead>\n",
       "  <tbody>\n",
       "    <tr>\n",
       "      <th>543</th>\n",
       "      <td>62</td>\n",
       "      <td>36</td>\n",
       "      <td>25</td>\n",
       "      <td>33</td>\n",
       "      <td>140</td>\n",
       "      <td>68552.85</td>\n",
       "      <td>132.997922</td>\n",
       "      <td>10.400</td>\n",
       "      <td>151.48</td>\n",
       "      <td>-3.516568</td>\n",
       "      <td>...</td>\n",
       "      <td>226.29</td>\n",
       "      <td>0</td>\n",
       "      <td>1</td>\n",
       "      <td>2</td>\n",
       "      <td>0.095652</td>\n",
       "      <td>0.010781</td>\n",
       "      <td>36</td>\n",
       "      <td>2008Q2</td>\n",
       "      <td>3</td>\n",
       "      <td>Single Family</td>\n",
       "    </tr>\n",
       "    <tr>\n",
       "      <th>549</th>\n",
       "      <td>63</td>\n",
       "      <td>38</td>\n",
       "      <td>25</td>\n",
       "      <td>33</td>\n",
       "      <td>140</td>\n",
       "      <td>152664.59</td>\n",
       "      <td>108.879775</td>\n",
       "      <td>7.205</td>\n",
       "      <td>158.77</td>\n",
       "      <td>-3.339549</td>\n",
       "      <td>...</td>\n",
       "      <td>226.29</td>\n",
       "      <td>0</td>\n",
       "      <td>1</td>\n",
       "      <td>2</td>\n",
       "      <td>0.113043</td>\n",
       "      <td>0.045095</td>\n",
       "      <td>38</td>\n",
       "      <td>2008Q4</td>\n",
       "      <td>3</td>\n",
       "      <td>Single Family</td>\n",
       "    </tr>\n",
       "    <tr>\n",
       "      <th>550</th>\n",
       "      <td>64</td>\n",
       "      <td>33</td>\n",
       "      <td>25</td>\n",
       "      <td>33</td>\n",
       "      <td>140</td>\n",
       "      <td>0.00</td>\n",
       "      <td>0.000000</td>\n",
       "      <td>11.000</td>\n",
       "      <td>180.52</td>\n",
       "      <td>0.836859</td>\n",
       "      <td>...</td>\n",
       "      <td>226.29</td>\n",
       "      <td>0</td>\n",
       "      <td>1</td>\n",
       "      <td>2</td>\n",
       "      <td>0.069565</td>\n",
       "      <td>1.000000</td>\n",
       "      <td>33</td>\n",
       "      <td>2007Q3</td>\n",
       "      <td>3</td>\n",
       "      <td>Single Family</td>\n",
       "    </tr>\n",
       "    <tr>\n",
       "      <th>605</th>\n",
       "      <td>67</td>\n",
       "      <td>33</td>\n",
       "      <td>25</td>\n",
       "      <td>33</td>\n",
       "      <td>141</td>\n",
       "      <td>61112.70</td>\n",
       "      <td>86.562191</td>\n",
       "      <td>11.750</td>\n",
       "      <td>180.52</td>\n",
       "      <td>0.836859</td>\n",
       "      <td>...</td>\n",
       "      <td>226.29</td>\n",
       "      <td>1</td>\n",
       "      <td>0</td>\n",
       "      <td>1</td>\n",
       "      <td>0.068966</td>\n",
       "      <td>0.013516</td>\n",
       "      <td>33</td>\n",
       "      <td>2007Q3</td>\n",
       "      <td>3</td>\n",
       "      <td>Single Family</td>\n",
       "    </tr>\n",
       "    <tr>\n",
       "      <th>611</th>\n",
       "      <td>68</td>\n",
       "      <td>38</td>\n",
       "      <td>25</td>\n",
       "      <td>33</td>\n",
       "      <td>141</td>\n",
       "      <td>82983.56</td>\n",
       "      <td>112.641826</td>\n",
       "      <td>9.840</td>\n",
       "      <td>158.77</td>\n",
       "      <td>-3.339549</td>\n",
       "      <td>...</td>\n",
       "      <td>226.29</td>\n",
       "      <td>0</td>\n",
       "      <td>1</td>\n",
       "      <td>2</td>\n",
       "      <td>0.112069</td>\n",
       "      <td>0.012100</td>\n",
       "      <td>38</td>\n",
       "      <td>2008Q4</td>\n",
       "      <td>3</td>\n",
       "      <td>Single Family</td>\n",
       "    </tr>\n",
       "  </tbody>\n",
       "</table>\n",
       "<p>5 rows × 29 columns</p>\n",
       "</div>"
      ],
      "text/plain": [
       "     id  time  orig_time  first_time  mat_time  balance_time    LTV_time  \\\n",
       "543  62    36         25          33       140      68552.85  132.997922   \n",
       "549  63    38         25          33       140     152664.59  108.879775   \n",
       "550  64    33         25          33       140          0.00    0.000000   \n",
       "605  67    33         25          33       141      61112.70   86.562191   \n",
       "611  68    38         25          33       141      82983.56  112.641826   \n",
       "\n",
       "     interest_rate_time  hpi_time  gdp_time  ...  hpi_orig_time  default_time  \\\n",
       "543              10.400    151.48 -3.516568  ...         226.29             0   \n",
       "549               7.205    158.77 -3.339549  ...         226.29             0   \n",
       "550              11.000    180.52  0.836859  ...         226.29             0   \n",
       "605              11.750    180.52  0.836859  ...         226.29             1   \n",
       "611               9.840    158.77 -3.339549  ...         226.29             0   \n",
       "\n",
       "     payoff_time  status_time  elapsed_perc  perc_bal_paid  Time  Quarter  \\\n",
       "543            1            2      0.095652       0.010781    36   2008Q2   \n",
       "549            1            2      0.113043       0.045095    38   2008Q4   \n",
       "550            1            2      0.069565       1.000000    33   2007Q3   \n",
       "605            0            1      0.068966       0.013516    33   2007Q3   \n",
       "611            1            2      0.112069       0.012100    38   2008Q4   \n",
       "\n",
       "     type  mortgage_type  \n",
       "543     3  Single Family  \n",
       "549     3  Single Family  \n",
       "550     3  Single Family  \n",
       "605     3  Single Family  \n",
       "611     3  Single Family  \n",
       "\n",
       "[5 rows x 29 columns]"
      ]
     },
     "execution_count": 74,
     "metadata": {},
     "output_type": "execute_result"
    }
   ],
   "source": [
    "df_reg.head()"
   ]
  },
  {
   "cell_type": "code",
   "execution_count": 75,
   "metadata": {},
   "outputs": [
    {
     "data": {
      "text/plain": [
       "Text(0.5, 1.0, 'Histogram of FICO Scores at Origination')"
      ]
     },
     "execution_count": 75,
     "metadata": {},
     "output_type": "execute_result"
    },
    {
     "data": {
      "image/png": "[encoded data removed]",
      "text/plain": [
       "<Figure size 432x288 with 1 Axes>"
      ]
     },
     "metadata": {
      "needs_background": "light"
     },
     "output_type": "display_data"
    }
   ],
   "source": [
    "# Histogram of FICO scores at origination for uncensored loans\n",
    "\n",
    "ax = df_reg['FICO_orig_time'].plot.hist(bins=12, alpha=0.75)\n",
    "plt.title('Histogram of FICO Scores at Origination')"
   ]
  },
  {
   "cell_type": "markdown",
   "metadata": {},
   "source": [
    "Do FICO scores in the top half of the distribution default significantly more often than the bottom half?"
   ]
  },
  {
   "cell_type": "code",
   "execution_count": 76,
   "metadata": {},
   "outputs": [],
   "source": [
    "FICO_median = df_reg['FICO_orig_time'].median()"
   ]
  },
  {
   "cell_type": "code",
   "execution_count": 77,
   "metadata": {},
   "outputs": [],
   "source": [
    "top_half = df_reg.loc[df_reg['FICO_orig_time'] >= FICO_median, 'default_time']\n",
    "bot_half = df_reg.loc[df_reg['FICO_orig_time'] < FICO_median, 'default_time']"
   ]
  },
  {
   "cell_type": "code",
   "execution_count": 78,
   "metadata": {},
   "outputs": [
    {
     "data": {
      "text/plain": [
       "1889"
      ]
     },
     "execution_count": 78,
     "metadata": {},
     "output_type": "execute_result"
    }
   ],
   "source": [
    "top_half.count()"
   ]
  },
  {
   "cell_type": "code",
   "execution_count": 79,
   "metadata": {},
   "outputs": [],
   "source": [
    "def z_binary(group1, group2):\n",
    "    # Count the number of defaults for investor and non-investor mortgages\n",
    "    occ_1 = group1.sum()\n",
    "    occ_2 = group2.sum()\n",
    "\n",
    "    # Calculate counts of investor and non-investor mortgages\n",
    "    n_1 = group1.count()\n",
    "    n_2 = group2.count()\n",
    "\n",
    "    # Calculate the proportion of defaults for investors, non-investors, and the total sample\n",
    "    phat_1 = occ_1/n_1\n",
    "    phat_2 = occ_2/n_2\n",
    "    phat_all = (occ_1 + n_1)/(occ_2 + n_2)\n",
    "    \n",
    "    z_score = (phat_1 - phat_2)/math.sqrt(phat_all*(1-phat_all)*(1/n_1 + 1/n_2))\n",
    "    \n",
    "    return z_score"
   ]
  },
  {
   "cell_type": "code",
   "execution_count": 80,
   "metadata": {},
   "outputs": [
    {
     "name": "stdout",
     "output_type": "stream",
     "text": [
      "-15.297964174049735\n"
     ]
    }
   ],
   "source": [
    "z_score = z_binary(top_half, bot_half)\n",
    "\n",
    "print(z_score)"
   ]
  },
  {
   "cell_type": "code",
   "execution_count": 81,
   "metadata": {},
   "outputs": [
    {
     "data": {
      "text/plain": [
       "Index(['id', 'time', 'orig_time', 'first_time', 'mat_time', 'balance_time',\n",
       "       'LTV_time', 'interest_rate_time', 'hpi_time', 'gdp_time', 'uer_time',\n",
       "       'REtype_CO_orig_time', 'REtype_PU_orig_time', 'REtype_SF_orig_time',\n",
       "       'investor_orig_time', 'balance_orig_time', 'FICO_orig_time',\n",
       "       'LTV_orig_time', 'Interest_Rate_orig_time', 'hpi_orig_time',\n",
       "       'default_time', 'payoff_time', 'status_time', 'elapsed_perc',\n",
       "       'perc_bal_paid', 'Time', 'Quarter', 'type', 'mortgage_type'],\n",
       "      dtype='object')"
      ]
     },
     "execution_count": 81,
     "metadata": {},
     "output_type": "execute_result"
    }
   ],
   "source": [
    "df.columns"
   ]
  },
  {
   "cell_type": "code",
   "execution_count": null,
   "metadata": {},
   "outputs": [],
   "source": [
    "df_pairplot = df.loc[:, ['balance_time',\n",
    "                       'LTV_time',\n",
    "                       'interest_rate_time',\n",
    "                       'FICO_orig_time',\n",
    "                       'default_time']]"
   ]
  },
  {
   "cell_type": "code",
   "execution_count": null,
   "metadata": {},
   "outputs": [],
   "source": [
    "sns.pairplot(df_pairplot, hue = 'default_time')"
   ]
  },
  {
   "cell_type": "markdown",
   "metadata": {},
   "source": [
    "#### Test for difference between building types"
   ]
  },
  {
   "cell_type": "code",
   "execution_count": 100,
   "metadata": {},
   "outputs": [],
   "source": [
    "def_by_type = df.loc[df['orig_time'] == 25, ]\n"
   ]
  },
  {
   "cell_type": "code",
   "execution_count": 101,
   "metadata": {},
   "outputs": [],
   "source": [
    "# Create dataframe to calculate total number of mortgages, defaults, and payoffs by building type\n",
    "def_by_type = def_by_type.groupby(['id','mortgage_type'])[['default_time','payoff_time']].agg({'default_time':'sum',\n",
    "                                        'payoff_time':'sum'}).reset_index()\n",
    "\n",
    "def_by_type['Censored'] = def_by_type['default_time'] + def_by_type['payoff_time']"
   ]
  },
  {
   "cell_type": "code",
   "execution_count": 102,
   "metadata": {},
   "outputs": [
    {
     "data": {
      "text/html": [
       "<div>\n",
       "<style scoped>\n",
       "    .dataframe tbody tr th:only-of-type {\n",
       "        vertical-align: middle;\n",
       "    }\n",
       "\n",
       "    .dataframe tbody tr th {\n",
       "        vertical-align: top;\n",
       "    }\n",
       "\n",
       "    .dataframe thead th {\n",
       "        text-align: right;\n",
       "    }\n",
       "</style>\n",
       "<table border=\"1\" class=\"dataframe\">\n",
       "  <thead>\n",
       "    <tr style=\"text-align: right;\">\n",
       "      <th></th>\n",
       "      <th>id</th>\n",
       "      <th>mortgage_type</th>\n",
       "      <th>default_time</th>\n",
       "      <th>payoff_time</th>\n",
       "      <th>Censored</th>\n",
       "    </tr>\n",
       "  </thead>\n",
       "  <tbody>\n",
       "    <tr>\n",
       "      <th>0</th>\n",
       "      <td>62</td>\n",
       "      <td>Single Family</td>\n",
       "      <td>0</td>\n",
       "      <td>1</td>\n",
       "      <td>1</td>\n",
       "    </tr>\n",
       "    <tr>\n",
       "      <th>1</th>\n",
       "      <td>63</td>\n",
       "      <td>Single Family</td>\n",
       "      <td>0</td>\n",
       "      <td>1</td>\n",
       "      <td>1</td>\n",
       "    </tr>\n",
       "    <tr>\n",
       "      <th>2</th>\n",
       "      <td>64</td>\n",
       "      <td>Single Family</td>\n",
       "      <td>0</td>\n",
       "      <td>1</td>\n",
       "      <td>1</td>\n",
       "    </tr>\n",
       "    <tr>\n",
       "      <th>3</th>\n",
       "      <td>66</td>\n",
       "      <td>Single Family</td>\n",
       "      <td>0</td>\n",
       "      <td>0</td>\n",
       "      <td>0</td>\n",
       "    </tr>\n",
       "    <tr>\n",
       "      <th>4</th>\n",
       "      <td>67</td>\n",
       "      <td>Single Family</td>\n",
       "      <td>1</td>\n",
       "      <td>0</td>\n",
       "      <td>1</td>\n",
       "    </tr>\n",
       "  </tbody>\n",
       "</table>\n",
       "</div>"
      ],
      "text/plain": [
       "   id  mortgage_type  default_time  payoff_time  Censored\n",
       "0  62  Single Family             0            1         1\n",
       "1  63  Single Family             0            1         1\n",
       "2  64  Single Family             0            1         1\n",
       "3  66  Single Family             0            0         0\n",
       "4  67  Single Family             1            0         1"
      ]
     },
     "execution_count": 102,
     "metadata": {},
     "output_type": "execute_result"
    }
   ],
   "source": [
    "def_by_type.head()"
   ]
  },
  {
   "cell_type": "code",
   "execution_count": 103,
   "metadata": {},
   "outputs": [],
   "source": [
    "def_by_type = def_by_type.loc[def_by_type['Censored'] > 0, ]\n",
    "\n",
    "def_by_type = def_by_type.groupby('mortgage_type')['default_time','payoff_time'].agg({'default_time':'sum',\n",
    "                                                                                           'payoff_time':'sum'}).reset_index()\n",
    "\n",
    "def_by_type.columns = ['Mortgage Type', 'Defaults', 'Paid Off']"
   ]
  },
  {
   "cell_type": "code",
   "execution_count": 106,
   "metadata": {},
   "outputs": [],
   "source": [
    "# Create columns to calculate the share of mortgages by type of building that were paid off or defaulted on\n",
    "def_by_type['Default Percent'] = def_by_type['Defaults']/(def_by_type['Defaults'] + def_by_type['Paid Off'])*100"
   ]
  },
  {
   "cell_type": "code",
   "execution_count": 107,
   "metadata": {},
   "outputs": [
    {
     "data": {
      "text/html": [
       "<div>\n",
       "<style scoped>\n",
       "    .dataframe tbody tr th:only-of-type {\n",
       "        vertical-align: middle;\n",
       "    }\n",
       "\n",
       "    .dataframe tbody tr th {\n",
       "        vertical-align: top;\n",
       "    }\n",
       "\n",
       "    .dataframe thead th {\n",
       "        text-align: right;\n",
       "    }\n",
       "</style>\n",
       "<table border=\"1\" class=\"dataframe\">\n",
       "  <thead>\n",
       "    <tr style=\"text-align: right;\">\n",
       "      <th></th>\n",
       "      <th>Mortgage Type</th>\n",
       "      <th>Defaults</th>\n",
       "      <th>Paid Off</th>\n",
       "      <th>Default Percent</th>\n",
       "    </tr>\n",
       "  </thead>\n",
       "  <tbody>\n",
       "    <tr>\n",
       "      <th>0</th>\n",
       "      <td>Condo</td>\n",
       "      <td>150</td>\n",
       "      <td>146</td>\n",
       "      <td>50.675676</td>\n",
       "    </tr>\n",
       "    <tr>\n",
       "      <th>1</th>\n",
       "      <td>Single Family</td>\n",
       "      <td>1164</td>\n",
       "      <td>1121</td>\n",
       "      <td>50.940919</td>\n",
       "    </tr>\n",
       "    <tr>\n",
       "      <th>2</th>\n",
       "      <td>Urban Development</td>\n",
       "      <td>240</td>\n",
       "      <td>226</td>\n",
       "      <td>51.502146</td>\n",
       "    </tr>\n",
       "  </tbody>\n",
       "</table>\n",
       "</div>"
      ],
      "text/plain": [
       "       Mortgage Type  Defaults  Paid Off  Default Percent\n",
       "0              Condo       150       146        50.675676\n",
       "1      Single Family      1164      1121        50.940919\n",
       "2  Urban Development       240       226        51.502146"
      ]
     },
     "execution_count": 107,
     "metadata": {},
     "output_type": "execute_result"
    }
   ],
   "source": [
    "# Display table\n",
    "def_by_type"
   ]
  },
  {
   "cell_type": "code",
   "execution_count": null,
   "metadata": {},
   "outputs": [],
   "source": []
  },
  {
   "cell_type": "code",
   "execution_count": 108,
   "metadata": {},
   "outputs": [
    {
     "data": {
      "text/html": [
       "<div>\n",
       "<style scoped>\n",
       "    .dataframe tbody tr th:only-of-type {\n",
       "        vertical-align: middle;\n",
       "    }\n",
       "\n",
       "    .dataframe tbody tr th {\n",
       "        vertical-align: top;\n",
       "    }\n",
       "\n",
       "    .dataframe thead th {\n",
       "        text-align: right;\n",
       "    }\n",
       "</style>\n",
       "<table border=\"1\" class=\"dataframe\">\n",
       "  <thead>\n",
       "    <tr style=\"text-align: right;\">\n",
       "      <th></th>\n",
       "      <th>id</th>\n",
       "      <th>time</th>\n",
       "      <th>orig_time</th>\n",
       "      <th>first_time</th>\n",
       "      <th>mat_time</th>\n",
       "      <th>balance_time</th>\n",
       "      <th>LTV_time</th>\n",
       "      <th>interest_rate_time</th>\n",
       "      <th>hpi_time</th>\n",
       "      <th>gdp_time</th>\n",
       "      <th>...</th>\n",
       "      <th>hpi_orig_time</th>\n",
       "      <th>default_time</th>\n",
       "      <th>payoff_time</th>\n",
       "      <th>status_time</th>\n",
       "      <th>elapsed_perc</th>\n",
       "      <th>perc_bal_paid</th>\n",
       "      <th>Time</th>\n",
       "      <th>Quarter</th>\n",
       "      <th>type</th>\n",
       "      <th>mortgage_type</th>\n",
       "    </tr>\n",
       "  </thead>\n",
       "  <tbody>\n",
       "    <tr>\n",
       "      <th>0</th>\n",
       "      <td>1</td>\n",
       "      <td>25</td>\n",
       "      <td>-7</td>\n",
       "      <td>25</td>\n",
       "      <td>113</td>\n",
       "      <td>41303.42</td>\n",
       "      <td>24.498336</td>\n",
       "      <td>9.2</td>\n",
       "      <td>226.29</td>\n",
       "      <td>2.899137</td>\n",
       "      <td>...</td>\n",
       "      <td>87.03</td>\n",
       "      <td>0</td>\n",
       "      <td>0</td>\n",
       "      <td>0</td>\n",
       "      <td>0.266667</td>\n",
       "      <td>0.082146</td>\n",
       "      <td>25</td>\n",
       "      <td>2005Q3</td>\n",
       "      <td>3</td>\n",
       "      <td>Single Family</td>\n",
       "    </tr>\n",
       "    <tr>\n",
       "      <th>1</th>\n",
       "      <td>1</td>\n",
       "      <td>26</td>\n",
       "      <td>-7</td>\n",
       "      <td>25</td>\n",
       "      <td>113</td>\n",
       "      <td>41061.95</td>\n",
       "      <td>24.483867</td>\n",
       "      <td>9.2</td>\n",
       "      <td>225.10</td>\n",
       "      <td>2.151365</td>\n",
       "      <td>...</td>\n",
       "      <td>87.03</td>\n",
       "      <td>0</td>\n",
       "      <td>0</td>\n",
       "      <td>0</td>\n",
       "      <td>0.275000</td>\n",
       "      <td>0.087512</td>\n",
       "      <td>26</td>\n",
       "      <td>2005Q4</td>\n",
       "      <td>3</td>\n",
       "      <td>Single Family</td>\n",
       "    </tr>\n",
       "    <tr>\n",
       "      <th>2</th>\n",
       "      <td>1</td>\n",
       "      <td>27</td>\n",
       "      <td>-7</td>\n",
       "      <td>25</td>\n",
       "      <td>113</td>\n",
       "      <td>40804.42</td>\n",
       "      <td>24.626795</td>\n",
       "      <td>9.2</td>\n",
       "      <td>222.39</td>\n",
       "      <td>2.361722</td>\n",
       "      <td>...</td>\n",
       "      <td>87.03</td>\n",
       "      <td>0</td>\n",
       "      <td>0</td>\n",
       "      <td>0</td>\n",
       "      <td>0.283333</td>\n",
       "      <td>0.093235</td>\n",
       "      <td>27</td>\n",
       "      <td>2006Q1</td>\n",
       "      <td>3</td>\n",
       "      <td>Single Family</td>\n",
       "    </tr>\n",
       "    <tr>\n",
       "      <th>3</th>\n",
       "      <td>1</td>\n",
       "      <td>28</td>\n",
       "      <td>-7</td>\n",
       "      <td>25</td>\n",
       "      <td>113</td>\n",
       "      <td>40483.89</td>\n",
       "      <td>24.735883</td>\n",
       "      <td>9.2</td>\n",
       "      <td>219.67</td>\n",
       "      <td>1.229172</td>\n",
       "      <td>...</td>\n",
       "      <td>87.03</td>\n",
       "      <td>0</td>\n",
       "      <td>0</td>\n",
       "      <td>0</td>\n",
       "      <td>0.291667</td>\n",
       "      <td>0.100358</td>\n",
       "      <td>28</td>\n",
       "      <td>2006Q2</td>\n",
       "      <td>3</td>\n",
       "      <td>Single Family</td>\n",
       "    </tr>\n",
       "    <tr>\n",
       "      <th>4</th>\n",
       "      <td>1</td>\n",
       "      <td>29</td>\n",
       "      <td>-7</td>\n",
       "      <td>25</td>\n",
       "      <td>113</td>\n",
       "      <td>40367.06</td>\n",
       "      <td>24.925476</td>\n",
       "      <td>9.2</td>\n",
       "      <td>217.37</td>\n",
       "      <td>1.692969</td>\n",
       "      <td>...</td>\n",
       "      <td>87.03</td>\n",
       "      <td>0</td>\n",
       "      <td>0</td>\n",
       "      <td>0</td>\n",
       "      <td>0.300000</td>\n",
       "      <td>0.102954</td>\n",
       "      <td>29</td>\n",
       "      <td>2006Q3</td>\n",
       "      <td>3</td>\n",
       "      <td>Single Family</td>\n",
       "    </tr>\n",
       "  </tbody>\n",
       "</table>\n",
       "<p>5 rows × 29 columns</p>\n",
       "</div>"
      ],
      "text/plain": [
       "   id  time  orig_time  first_time  mat_time  balance_time   LTV_time  \\\n",
       "0   1    25         -7          25       113      41303.42  24.498336   \n",
       "1   1    26         -7          25       113      41061.95  24.483867   \n",
       "2   1    27         -7          25       113      40804.42  24.626795   \n",
       "3   1    28         -7          25       113      40483.89  24.735883   \n",
       "4   1    29         -7          25       113      40367.06  24.925476   \n",
       "\n",
       "   interest_rate_time  hpi_time  gdp_time  ...  hpi_orig_time  default_time  \\\n",
       "0                 9.2    226.29  2.899137  ...          87.03             0   \n",
       "1                 9.2    225.10  2.151365  ...          87.03             0   \n",
       "2                 9.2    222.39  2.361722  ...          87.03             0   \n",
       "3                 9.2    219.67  1.229172  ...          87.03             0   \n",
       "4                 9.2    217.37  1.692969  ...          87.03             0   \n",
       "\n",
       "   payoff_time  status_time  elapsed_perc  perc_bal_paid  Time  Quarter  type  \\\n",
       "0            0            0      0.266667       0.082146    25   2005Q3     3   \n",
       "1            0            0      0.275000       0.087512    26   2005Q4     3   \n",
       "2            0            0      0.283333       0.093235    27   2006Q1     3   \n",
       "3            0            0      0.291667       0.100358    28   2006Q2     3   \n",
       "4            0            0      0.300000       0.102954    29   2006Q3     3   \n",
       "\n",
       "   mortgage_type  \n",
       "0  Single Family  \n",
       "1  Single Family  \n",
       "2  Single Family  \n",
       "3  Single Family  \n",
       "4  Single Family  \n",
       "\n",
       "[5 rows x 29 columns]"
      ]
     },
     "execution_count": 108,
     "metadata": {},
     "output_type": "execute_result"
    }
   ],
   "source": [
    "df.head()"
   ]
  },
  {
   "cell_type": "code",
   "execution_count": 109,
   "metadata": {},
   "outputs": [],
   "source": [
    "# Create variable that calculates how many quarters since the mortgage was originated\n",
    "df['mortgage_qtr'] = df['time'] - df['orig_time']"
   ]
  },
  {
   "cell_type": "code",
   "execution_count": 111,
   "metadata": {},
   "outputs": [],
   "source": [
    "# Create dataframe to calculate total number of mortgages, defaults, and payoffs by building type\n",
    "by_mat = df.groupby(['mortgage_qtr'])[['id','default_time','payoff_time']].agg({'id':'count',\n",
    "                                                                                              'default_time':'sum',\n",
    "                                                                                              'payoff_time':'sum'\n",
    "                                                                                             }).reset_index()\n",
    "\n"
   ]
  },
  {
   "cell_type": "code",
   "execution_count": 113,
   "metadata": {
    "scrolled": true
   },
   "outputs": [
    {
     "data": {
      "text/html": [
       "<div>\n",
       "<style scoped>\n",
       "    .dataframe tbody tr th:only-of-type {\n",
       "        vertical-align: middle;\n",
       "    }\n",
       "\n",
       "    .dataframe tbody tr th {\n",
       "        vertical-align: top;\n",
       "    }\n",
       "\n",
       "    .dataframe thead th {\n",
       "        text-align: right;\n",
       "    }\n",
       "</style>\n",
       "<table border=\"1\" class=\"dataframe\">\n",
       "  <thead>\n",
       "    <tr style=\"text-align: right;\">\n",
       "      <th></th>\n",
       "      <th>mortgage_qtr</th>\n",
       "      <th>id</th>\n",
       "      <th>default_time</th>\n",
       "      <th>payoff_time</th>\n",
       "    </tr>\n",
       "  </thead>\n",
       "  <tbody>\n",
       "    <tr>\n",
       "      <th>0</th>\n",
       "      <td>0</td>\n",
       "      <td>8145</td>\n",
       "      <td>90</td>\n",
       "      <td>653</td>\n",
       "    </tr>\n",
       "    <tr>\n",
       "      <th>1</th>\n",
       "      <td>1</td>\n",
       "      <td>8145</td>\n",
       "      <td>126</td>\n",
       "      <td>583</td>\n",
       "    </tr>\n",
       "    <tr>\n",
       "      <th>2</th>\n",
       "      <td>2</td>\n",
       "      <td>23634</td>\n",
       "      <td>243</td>\n",
       "      <td>1254</td>\n",
       "    </tr>\n",
       "    <tr>\n",
       "      <th>3</th>\n",
       "      <td>3</td>\n",
       "      <td>34769</td>\n",
       "      <td>599</td>\n",
       "      <td>1950</td>\n",
       "    </tr>\n",
       "    <tr>\n",
       "      <th>4</th>\n",
       "      <td>4</td>\n",
       "      <td>35459</td>\n",
       "      <td>787</td>\n",
       "      <td>2069</td>\n",
       "    </tr>\n",
       "    <tr>\n",
       "      <th>5</th>\n",
       "      <td>5</td>\n",
       "      <td>34122</td>\n",
       "      <td>921</td>\n",
       "      <td>2414</td>\n",
       "    </tr>\n",
       "    <tr>\n",
       "      <th>6</th>\n",
       "      <td>6</td>\n",
       "      <td>31876</td>\n",
       "      <td>908</td>\n",
       "      <td>1891</td>\n",
       "    </tr>\n",
       "    <tr>\n",
       "      <th>7</th>\n",
       "      <td>7</td>\n",
       "      <td>30026</td>\n",
       "      <td>959</td>\n",
       "      <td>1565</td>\n",
       "    </tr>\n",
       "    <tr>\n",
       "      <th>8</th>\n",
       "      <td>8</td>\n",
       "      <td>28112</td>\n",
       "      <td>901</td>\n",
       "      <td>1850</td>\n",
       "    </tr>\n",
       "    <tr>\n",
       "      <th>9</th>\n",
       "      <td>9</td>\n",
       "      <td>25808</td>\n",
       "      <td>921</td>\n",
       "      <td>2225</td>\n",
       "    </tr>\n",
       "    <tr>\n",
       "      <th>10</th>\n",
       "      <td>10</td>\n",
       "      <td>22857</td>\n",
       "      <td>944</td>\n",
       "      <td>1279</td>\n",
       "    </tr>\n",
       "    <tr>\n",
       "      <th>11</th>\n",
       "      <td>11</td>\n",
       "      <td>20818</td>\n",
       "      <td>816</td>\n",
       "      <td>873</td>\n",
       "    </tr>\n",
       "    <tr>\n",
       "      <th>12</th>\n",
       "      <td>12</td>\n",
       "      <td>19244</td>\n",
       "      <td>727</td>\n",
       "      <td>806</td>\n",
       "    </tr>\n",
       "    <tr>\n",
       "      <th>13</th>\n",
       "      <td>13</td>\n",
       "      <td>17962</td>\n",
       "      <td>688</td>\n",
       "      <td>742</td>\n",
       "    </tr>\n",
       "    <tr>\n",
       "      <th>14</th>\n",
       "      <td>14</td>\n",
       "      <td>16718</td>\n",
       "      <td>601</td>\n",
       "      <td>479</td>\n",
       "    </tr>\n",
       "    <tr>\n",
       "      <th>15</th>\n",
       "      <td>15</td>\n",
       "      <td>15724</td>\n",
       "      <td>522</td>\n",
       "      <td>447</td>\n",
       "    </tr>\n",
       "    <tr>\n",
       "      <th>16</th>\n",
       "      <td>16</td>\n",
       "      <td>14816</td>\n",
       "      <td>421</td>\n",
       "      <td>364</td>\n",
       "    </tr>\n",
       "    <tr>\n",
       "      <th>17</th>\n",
       "      <td>17</td>\n",
       "      <td>14151</td>\n",
       "      <td>409</td>\n",
       "      <td>336</td>\n",
       "    </tr>\n",
       "    <tr>\n",
       "      <th>18</th>\n",
       "      <td>18</td>\n",
       "      <td>13484</td>\n",
       "      <td>370</td>\n",
       "      <td>300</td>\n",
       "    </tr>\n",
       "    <tr>\n",
       "      <th>19</th>\n",
       "      <td>19</td>\n",
       "      <td>12864</td>\n",
       "      <td>348</td>\n",
       "      <td>311</td>\n",
       "    </tr>\n",
       "  </tbody>\n",
       "</table>\n",
       "</div>"
      ],
      "text/plain": [
       "    mortgage_qtr     id  default_time  payoff_time\n",
       "0              0   8145            90          653\n",
       "1              1   8145           126          583\n",
       "2              2  23634           243         1254\n",
       "3              3  34769           599         1950\n",
       "4              4  35459           787         2069\n",
       "5              5  34122           921         2414\n",
       "6              6  31876           908         1891\n",
       "7              7  30026           959         1565\n",
       "8              8  28112           901         1850\n",
       "9              9  25808           921         2225\n",
       "10            10  22857           944         1279\n",
       "11            11  20818           816          873\n",
       "12            12  19244           727          806\n",
       "13            13  17962           688          742\n",
       "14            14  16718           601          479\n",
       "15            15  15724           522          447\n",
       "16            16  14816           421          364\n",
       "17            17  14151           409          336\n",
       "18            18  13484           370          300\n",
       "19            19  12864           348          311"
      ]
     },
     "execution_count": 113,
     "metadata": {},
     "output_type": "execute_result"
    }
   ],
   "source": [
    "by_mat.head(20)"
   ]
  },
  {
   "cell_type": "markdown",
   "metadata": {},
   "source": [
    "# Distribution of Loan-to-Value and FICO Scores for Investors vs Non-Investors"
   ]
  },
  {
   "cell_type": "markdown",
   "metadata": {},
   "source": [
    "Drop values that are right censored to compare distribution between mortgages that go into default vs those repaid"
   ]
  },
  {
   "cell_type": "code",
   "execution_count": 117,
   "metadata": {},
   "outputs": [],
   "source": [
    "df_reg = df"
   ]
  },
  {
   "cell_type": "markdown",
   "metadata": {},
   "source": [
    "The distribution of loan-to-value of mortgages look similar for default vs repaid. The repaid appear to have a fatter tail to the left, but a more rigorous comparison would need to be made. Either way the distributions are more similar than you might expect and it does not seem that loan-to-value on its own would be a good predictor of default, although that doesn't mean it wouldn't be when used in combination with other predictors."
   ]
  },
  {
   "cell_type": "code",
   "execution_count": 118,
   "metadata": {},
   "outputs": [],
   "source": [
    "# Filter to include only loans originated in the 25th quarter\n",
    "df_reg = df_reg.loc[df['orig_time'] == 25, ]"
   ]
  },
  {
   "cell_type": "code",
   "execution_count": 119,
   "metadata": {},
   "outputs": [],
   "source": [
    "# Significance test to see whether FICO scores at \n",
    "df_FICO = df_reg.groupby('id')[['FICO_orig_time', 'investor_orig_time']].agg({'FICO_orig_time':'max',\n",
    "                                                                   'investor_orig_time':'max'}).reset_index()"
   ]
  },
  {
   "cell_type": "code",
   "execution_count": 121,
   "metadata": {},
   "outputs": [
    {
     "data": {
      "image/png": "[encoded data removed]",
      "text/plain": [
       "<Figure size 720x720 with 3 Axes>"
      ]
     },
     "metadata": {
      "needs_background": "light"
     },
     "output_type": "display_data"
    }
   ],
   "source": [
    "# Create plot to see difference in distribution of loan-to-value for mortgages that defaulted and those that were repaid\n",
    "%matplotlib inline\n",
    "\n",
    "fig, axes = joypy.joyplot(df_reg, by=\"investor_orig_time\", column=\"LTV_orig_time\", range_style='own',\n",
    "                          grid=\"y\", linewidth=1, legend=False, fade=True, figsize=(10,10),\n",
    "                          labels = ['Investor', 'Non-Investor'],\n",
    "                          title=\"Loan-to-Value Distribution of Mortgages Repaid vs Defaulted On\",\n",
    "                          kind=\"kde\", bins=20,\n",
    "                          x_range=[50,110])"
   ]
  },
  {
   "cell_type": "markdown",
   "metadata": {},
   "source": [
    "The difference in FICO score distributions is more evident than it was for loan-to-value ratios. In particular, the repaid distribution has significantly more of its distribution in the 700+ FICO score range."
   ]
  },
  {
   "cell_type": "code",
   "execution_count": 122,
   "metadata": {},
   "outputs": [
    {
     "data": {
      "image/png": "[encoded data removed]",
      "text/plain": [
       "<Figure size 720x360 with 3 Axes>"
      ]
     },
     "metadata": {
      "needs_background": "light"
     },
     "output_type": "display_data"
    }
   ],
   "source": [
    "# Create plot to see difference in distribution of FICO Scores for mortgages that defaulted and those that were repaid\n",
    "%matplotlib inline\n",
    "\n",
    "fig, axes = joypy.joyplot(df_reg, by=\"investor_orig_time\", column=\"FICO_orig_time\", range_style='own',\n",
    "                          grid=\"y\", linewidth=1, legend=False, fade=True, figsize=(10,5),\n",
    "                          labels = ['Investor', 'Non-Investor'],\n",
    "                          title=\"FICO Score Distribution of Mortgages for Investors vs Non-Investors\",\n",
    "                          kind=\"kde\", bins=20,\n",
    "                          x_range=[400, 850])"
   ]
  },
  {
   "cell_type": "code",
   "execution_count": 74,
   "metadata": {},
   "outputs": [
    {
     "data": {
      "text/html": [
       "<div>\n",
       "<style scoped>\n",
       "    .dataframe tbody tr th:only-of-type {\n",
       "        vertical-align: middle;\n",
       "    }\n",
       "\n",
       "    .dataframe tbody tr th {\n",
       "        vertical-align: top;\n",
       "    }\n",
       "\n",
       "    .dataframe thead th {\n",
       "        text-align: right;\n",
       "    }\n",
       "</style>\n",
       "<table border=\"1\" class=\"dataframe\">\n",
       "  <thead>\n",
       "    <tr style=\"text-align: right;\">\n",
       "      <th></th>\n",
       "      <th>id</th>\n",
       "      <th>time</th>\n",
       "      <th>orig_time</th>\n",
       "      <th>first_time</th>\n",
       "      <th>mat_time</th>\n",
       "      <th>balance_time</th>\n",
       "      <th>LTV_time</th>\n",
       "      <th>interest_rate_time</th>\n",
       "      <th>hpi_time</th>\n",
       "      <th>gdp_time</th>\n",
       "      <th>...</th>\n",
       "      <th>hpi_orig_time</th>\n",
       "      <th>default_time</th>\n",
       "      <th>payoff_time</th>\n",
       "      <th>status_time</th>\n",
       "      <th>elapsed_perc</th>\n",
       "      <th>perc_bal_paid</th>\n",
       "      <th>Time</th>\n",
       "      <th>Quarter</th>\n",
       "      <th>type</th>\n",
       "      <th>mortgage_type</th>\n",
       "    </tr>\n",
       "  </thead>\n",
       "  <tbody>\n",
       "    <tr>\n",
       "      <th>543</th>\n",
       "      <td>62</td>\n",
       "      <td>36</td>\n",
       "      <td>25</td>\n",
       "      <td>33</td>\n",
       "      <td>140</td>\n",
       "      <td>68552.85</td>\n",
       "      <td>132.997922</td>\n",
       "      <td>10.400</td>\n",
       "      <td>151.48</td>\n",
       "      <td>-3.516568</td>\n",
       "      <td>...</td>\n",
       "      <td>226.29</td>\n",
       "      <td>0</td>\n",
       "      <td>1</td>\n",
       "      <td>2</td>\n",
       "      <td>0.095652</td>\n",
       "      <td>0.010781</td>\n",
       "      <td>36</td>\n",
       "      <td>2008Q2</td>\n",
       "      <td>3</td>\n",
       "      <td>Single Family</td>\n",
       "    </tr>\n",
       "    <tr>\n",
       "      <th>549</th>\n",
       "      <td>63</td>\n",
       "      <td>38</td>\n",
       "      <td>25</td>\n",
       "      <td>33</td>\n",
       "      <td>140</td>\n",
       "      <td>152664.59</td>\n",
       "      <td>108.879775</td>\n",
       "      <td>7.205</td>\n",
       "      <td>158.77</td>\n",
       "      <td>-3.339549</td>\n",
       "      <td>...</td>\n",
       "      <td>226.29</td>\n",
       "      <td>0</td>\n",
       "      <td>1</td>\n",
       "      <td>2</td>\n",
       "      <td>0.113043</td>\n",
       "      <td>0.045095</td>\n",
       "      <td>38</td>\n",
       "      <td>2008Q4</td>\n",
       "      <td>3</td>\n",
       "      <td>Single Family</td>\n",
       "    </tr>\n",
       "    <tr>\n",
       "      <th>550</th>\n",
       "      <td>64</td>\n",
       "      <td>33</td>\n",
       "      <td>25</td>\n",
       "      <td>33</td>\n",
       "      <td>140</td>\n",
       "      <td>0.00</td>\n",
       "      <td>0.000000</td>\n",
       "      <td>11.000</td>\n",
       "      <td>180.52</td>\n",
       "      <td>0.836859</td>\n",
       "      <td>...</td>\n",
       "      <td>226.29</td>\n",
       "      <td>0</td>\n",
       "      <td>1</td>\n",
       "      <td>2</td>\n",
       "      <td>0.069565</td>\n",
       "      <td>1.000000</td>\n",
       "      <td>33</td>\n",
       "      <td>2007Q3</td>\n",
       "      <td>3</td>\n",
       "      <td>Single Family</td>\n",
       "    </tr>\n",
       "    <tr>\n",
       "      <th>605</th>\n",
       "      <td>67</td>\n",
       "      <td>33</td>\n",
       "      <td>25</td>\n",
       "      <td>33</td>\n",
       "      <td>141</td>\n",
       "      <td>61112.70</td>\n",
       "      <td>86.562191</td>\n",
       "      <td>11.750</td>\n",
       "      <td>180.52</td>\n",
       "      <td>0.836859</td>\n",
       "      <td>...</td>\n",
       "      <td>226.29</td>\n",
       "      <td>1</td>\n",
       "      <td>0</td>\n",
       "      <td>1</td>\n",
       "      <td>0.068966</td>\n",
       "      <td>0.013516</td>\n",
       "      <td>33</td>\n",
       "      <td>2007Q3</td>\n",
       "      <td>3</td>\n",
       "      <td>Single Family</td>\n",
       "    </tr>\n",
       "    <tr>\n",
       "      <th>611</th>\n",
       "      <td>68</td>\n",
       "      <td>38</td>\n",
       "      <td>25</td>\n",
       "      <td>33</td>\n",
       "      <td>141</td>\n",
       "      <td>82983.56</td>\n",
       "      <td>112.641826</td>\n",
       "      <td>9.840</td>\n",
       "      <td>158.77</td>\n",
       "      <td>-3.339549</td>\n",
       "      <td>...</td>\n",
       "      <td>226.29</td>\n",
       "      <td>0</td>\n",
       "      <td>1</td>\n",
       "      <td>2</td>\n",
       "      <td>0.112069</td>\n",
       "      <td>0.012100</td>\n",
       "      <td>38</td>\n",
       "      <td>2008Q4</td>\n",
       "      <td>3</td>\n",
       "      <td>Single Family</td>\n",
       "    </tr>\n",
       "  </tbody>\n",
       "</table>\n",
       "<p>5 rows × 29 columns</p>\n",
       "</div>"
      ],
      "text/plain": [
       "     id  time  orig_time  first_time  mat_time  balance_time    LTV_time  \\\n",
       "543  62    36         25          33       140      68552.85  132.997922   \n",
       "549  63    38         25          33       140     152664.59  108.879775   \n",
       "550  64    33         25          33       140          0.00    0.000000   \n",
       "605  67    33         25          33       141      61112.70   86.562191   \n",
       "611  68    38         25          33       141      82983.56  112.641826   \n",
       "\n",
       "     interest_rate_time  hpi_time  gdp_time  ...  hpi_orig_time  default_time  \\\n",
       "543              10.400    151.48 -3.516568  ...         226.29             0   \n",
       "549               7.205    158.77 -3.339549  ...         226.29             0   \n",
       "550              11.000    180.52  0.836859  ...         226.29             0   \n",
       "605              11.750    180.52  0.836859  ...         226.29             1   \n",
       "611               9.840    158.77 -3.339549  ...         226.29             0   \n",
       "\n",
       "     payoff_time  status_time  elapsed_perc  perc_bal_paid  Time  Quarter  \\\n",
       "543            1            2      0.095652       0.010781    36   2008Q2   \n",
       "549            1            2      0.113043       0.045095    38   2008Q4   \n",
       "550            1            2      0.069565       1.000000    33   2007Q3   \n",
       "605            0            1      0.068966       0.013516    33   2007Q3   \n",
       "611            1            2      0.112069       0.012100    38   2008Q4   \n",
       "\n",
       "     type  mortgage_type  \n",
       "543     3  Single Family  \n",
       "549     3  Single Family  \n",
       "550     3  Single Family  \n",
       "605     3  Single Family  \n",
       "611     3  Single Family  \n",
       "\n",
       "[5 rows x 29 columns]"
      ]
     },
     "execution_count": 74,
     "metadata": {},
     "output_type": "execute_result"
    }
   ],
   "source": [
    "df_reg.head()"
   ]
  },
  {
   "cell_type": "markdown",
   "metadata": {},
   "source": [
    "#### Do investors have significantly different FICO scores than non-investors at the time of origination?"
   ]
  },
  {
   "cell_type": "code",
   "execution_count": 174,
   "metadata": {},
   "outputs": [],
   "source": [
    "# Filter to the 25th quarter to make independence plausible by removing time series component\n",
    "df_reg = df.loc[df['orig_time'] == 25, ]"
   ]
  },
  {
   "cell_type": "code",
   "execution_count": 175,
   "metadata": {},
   "outputs": [],
   "source": [
    "# Create dataframe of id, FICO at origination, and investor/non-investor\n",
    "df_reg = df_reg.groupby('id')[['FICO_orig_time', 'investor_orig_time', 'LTV_orig_time']].agg({'FICO_orig_time':'max',\n",
    "                                                                                              'investor_orig_time':'max',\n",
    "                                                                                             'LTV_orig_time':'max'\n",
    "                                                                                             }).reset_index()"
   ]
  },
  {
   "cell_type": "code",
   "execution_count": 176,
   "metadata": {},
   "outputs": [],
   "source": [
    "# Subset into investor and non-investors\n",
    "inv = df_reg.loc[df_reg['investor_orig_time'] == 1, \"FICO_orig_time\"]\n",
    "non = df_reg.loc[df_reg['investor_orig_time'] == 0, \"FICO_orig_time\"]"
   ]
  },
  {
   "cell_type": "code",
   "execution_count": 177,
   "metadata": {},
   "outputs": [
    {
     "name": "stdout",
     "output_type": "stream",
     "text": [
      "700.1517341040462\n",
      "662.8333333333334\n"
     ]
    }
   ],
   "source": [
    "print(np.mean(inv))\n",
    "print(np.mean(non))"
   ]
  },
  {
   "cell_type": "code",
   "execution_count": 153,
   "metadata": {},
   "outputs": [
    {
     "data": {
      "text/plain": [
       "Ttest_indResult(statistic=15.87360225089935, pvalue=2.6054565649434696e-51)"
      ]
     },
     "execution_count": 153,
     "metadata": {},
     "output_type": "execute_result"
    }
   ],
   "source": [
    "from scipy import stats\n",
    "\n",
    "# Calculate t-test statistic for samples with different sizes and variances\n",
    "stats.ttest_ind(inv, non, equal_var = False)"
   ]
  },
  {
   "cell_type": "markdown",
   "metadata": {},
   "source": [
    "The two sub-populations (investors and non-investors) have statistically different mean FICO scores at time of origination."
   ]
  },
  {
   "cell_type": "markdown",
   "metadata": {},
   "source": [
    "#### Do investors have significantly different loan-to-value ratios than non-investors at the time of origination?"
   ]
  },
  {
   "cell_type": "code",
   "execution_count": 178,
   "metadata": {},
   "outputs": [],
   "source": [
    "# Subset into investor and non-investors\n",
    "inv = df_reg.loc[df_reg['investor_orig_time'] == 1, \"LTV_orig_time\"]\n",
    "non = df_reg.loc[df_reg['investor_orig_time'] == 0, \"LTV_orig_time\"]"
   ]
  },
  {
   "cell_type": "code",
   "execution_count": 179,
   "metadata": {},
   "outputs": [
    {
     "name": "stdout",
     "output_type": "stream",
     "text": [
      "77.70939306358386\n",
      "79.98418737060041\n"
     ]
    }
   ],
   "source": [
    "print(np.mean(inv))\n",
    "print(np.mean(non))"
   ]
  },
  {
   "cell_type": "code",
   "execution_count": 180,
   "metadata": {},
   "outputs": [
    {
     "data": {
      "text/plain": [
       "Ttest_indResult(statistic=-6.069836865193294, pvalue=1.8355277150937008e-09)"
      ]
     },
     "execution_count": 180,
     "metadata": {},
     "output_type": "execute_result"
    }
   ],
   "source": [
    "# Calculate t-test statistic for samples with different sizes and variances\n",
    "stats.ttest_ind(inv, non, equal_var = False)"
   ]
  },
  {
   "cell_type": "markdown",
   "metadata": {},
   "source": [
    "The two sub-populations (investors and non-investors) have statistically different mean loan-to-value ratios at time of origination."
   ]
  },
  {
   "cell_type": "markdown",
   "metadata": {},
   "source": [
    "#### Do single-family home have significantly different loan-to-value ratios than condos at the time of origination?"
   ]
  },
  {
   "cell_type": "code",
   "execution_count": 181,
   "metadata": {},
   "outputs": [],
   "source": [
    "# Create a single variable corresponding to building type (1 = condo, 2 = urban development, 3 = single family home)\n",
    "df['type'] = df['REtype_CO_orig_time'] + 2*df['REtype_PU_orig_time'] + 3*df['REtype_SF_orig_time']"
   ]
  },
  {
   "cell_type": "code",
   "execution_count": 182,
   "metadata": {},
   "outputs": [],
   "source": [
    "# Transform numeric mapping into name of building type\n",
    "type_lookup = {1:\"Condo\",\n",
    "              2:\"Urban Development\",\n",
    "              3:\"Single Family\"}\n",
    "\n",
    "df['mortgage_type'] = df['type'].map(type_lookup)"
   ]
  },
  {
   "cell_type": "code",
   "execution_count": 184,
   "metadata": {
    "scrolled": false
   },
   "outputs": [],
   "source": [
    "# Filter to only quarter 25\n",
    "def_by_type = df.loc[df['orig_time'] == 25, ]\n",
    "\n",
    "# Create dataframe to calculate total number of mortgages, defaults, and payoffs by building type\n",
    "def_by_type = def_by_type.groupby(['id','mortgage_type'])[['FICO_orig_time','LTV_orig_time']].agg({'FICO_orig_time':'max',\n",
    "                                                                                          'LTV_orig_time':'max'\n",
    "                                                                                         }).reset_index()"
   ]
  },
  {
   "cell_type": "code",
   "execution_count": 185,
   "metadata": {},
   "outputs": [],
   "source": [
    "sf_FICO = def_by_type.loc[def_by_type['mortgage_type'] == 'Single Family', 'FICO_orig_time']\n",
    "co_FICO = def_by_type.loc[def_by_type['mortgage_type'] == 'Condo', 'FICO_orig_time']"
   ]
  },
  {
   "cell_type": "code",
   "execution_count": 186,
   "metadata": {},
   "outputs": [
    {
     "name": "stdout",
     "output_type": "stream",
     "text": [
      "659.7108477011494\n",
      "689.7359550561798\n"
     ]
    }
   ],
   "source": [
    "print(np.mean(sf_FICO))\n",
    "print(np.mean(co_FICO))"
   ]
  },
  {
   "cell_type": "code",
   "execution_count": 187,
   "metadata": {},
   "outputs": [
    {
     "data": {
      "text/plain": [
       "Ttest_indResult(statistic=-9.124487964595584, pvalue=1.772516035348622e-18)"
      ]
     },
     "execution_count": 187,
     "metadata": {},
     "output_type": "execute_result"
    }
   ],
   "source": [
    "# Calculate t-test statistic for samples with different sizes and variances\n",
    "stats.ttest_ind(sf_FICO, co_FICO, equal_var = False)"
   ]
  },
  {
   "cell_type": "code",
   "execution_count": 188,
   "metadata": {},
   "outputs": [],
   "source": [
    "sf_LTV = def_by_type.loc[def_by_type['mortgage_type'] == 'Single Family', 'LTV_orig_time']\n",
    "co_LTV = def_by_type.loc[def_by_type['mortgage_type'] == 'Condo', 'LTV_orig_time']"
   ]
  },
  {
   "cell_type": "code",
   "execution_count": 189,
   "metadata": {},
   "outputs": [
    {
     "name": "stdout",
     "output_type": "stream",
     "text": [
      "79.75535201149428\n",
      "79.68623595505619\n"
     ]
    }
   ],
   "source": [
    "print(np.mean(sf_LTV))\n",
    "print(np.mean(co_LTV))"
   ]
  },
  {
   "cell_type": "code",
   "execution_count": 190,
   "metadata": {},
   "outputs": [
    {
     "data": {
      "text/plain": [
       "Ttest_indResult(statistic=0.14343381003709896, pvalue=0.8860084107143291)"
      ]
     },
     "execution_count": 190,
     "metadata": {},
     "output_type": "execute_result"
    }
   ],
   "source": [
    "# Calculate t-test statistic for samples with different sizes and variances\n",
    "stats.ttest_ind(sf_LTV, co_LTV, equal_var = False)"
   ]
  },
  {
   "cell_type": "code",
   "execution_count": null,
   "metadata": {},
   "outputs": [],
   "source": []
  },
  {
   "cell_type": "code",
   "execution_count": null,
   "metadata": {},
   "outputs": [],
   "source": [
    "df_pairplot = df.loc[:, ['balance_time',\n",
    "                       'LTV_time',\n",
    "                       'interest_rate_time',\n",
    "                       'FICO_orig_time',\n",
    "                       'default_time']]"
   ]
  },
  {
   "cell_type": "code",
   "execution_count": null,
   "metadata": {},
   "outputs": [],
   "source": [
    "sns.pairplot(df_pairplot, hue = 'default_time')"
   ]
  },
  {
   "cell_type": "markdown",
   "metadata": {},
   "source": [
    "#### Test for difference between building types"
   ]
  },
  {
   "cell_type": "code",
   "execution_count": 100,
   "metadata": {},
   "outputs": [],
   "source": [
    "def_by_type = df.loc[df['orig_time'] == 25, ]\n"
   ]
  },
  {
   "cell_type": "code",
   "execution_count": 101,
   "metadata": {},
   "outputs": [],
   "source": [
    "# Create dataframe to calculate total number of mortgages, defaults, and payoffs by building type\n",
    "def_by_type = def_by_type.groupby(['id','mortgage_type'])[['default_time','payoff_time']].agg({'default_time':'sum',\n",
    "                                        'payoff_time':'sum'}).reset_index()\n",
    "\n",
    "def_by_type['Censored'] = def_by_type['default_time'] + def_by_type['payoff_time']"
   ]
  },
  {
   "cell_type": "code",
   "execution_count": 102,
   "metadata": {},
   "outputs": [
    {
     "data": {
      "text/html": [
       "<div>\n",
       "<style scoped>\n",
       "    .dataframe tbody tr th:only-of-type {\n",
       "        vertical-align: middle;\n",
       "    }\n",
       "\n",
       "    .dataframe tbody tr th {\n",
       "        vertical-align: top;\n",
       "    }\n",
       "\n",
       "    .dataframe thead th {\n",
       "        text-align: right;\n",
       "    }\n",
       "</style>\n",
       "<table border=\"1\" class=\"dataframe\">\n",
       "  <thead>\n",
       "    <tr style=\"text-align: right;\">\n",
       "      <th></th>\n",
       "      <th>id</th>\n",
       "      <th>mortgage_type</th>\n",
       "      <th>default_time</th>\n",
       "      <th>payoff_time</th>\n",
       "      <th>Censored</th>\n",
       "    </tr>\n",
       "  </thead>\n",
       "  <tbody>\n",
       "    <tr>\n",
       "      <th>0</th>\n",
       "      <td>62</td>\n",
       "      <td>Single Family</td>\n",
       "      <td>0</td>\n",
       "      <td>1</td>\n",
       "      <td>1</td>\n",
       "    </tr>\n",
       "    <tr>\n",
       "      <th>1</th>\n",
       "      <td>63</td>\n",
       "      <td>Single Family</td>\n",
       "      <td>0</td>\n",
       "      <td>1</td>\n",
       "      <td>1</td>\n",
       "    </tr>\n",
       "    <tr>\n",
       "      <th>2</th>\n",
       "      <td>64</td>\n",
       "      <td>Single Family</td>\n",
       "      <td>0</td>\n",
       "      <td>1</td>\n",
       "      <td>1</td>\n",
       "    </tr>\n",
       "    <tr>\n",
       "      <th>3</th>\n",
       "      <td>66</td>\n",
       "      <td>Single Family</td>\n",
       "      <td>0</td>\n",
       "      <td>0</td>\n",
       "      <td>0</td>\n",
       "    </tr>\n",
       "    <tr>\n",
       "      <th>4</th>\n",
       "      <td>67</td>\n",
       "      <td>Single Family</td>\n",
       "      <td>1</td>\n",
       "      <td>0</td>\n",
       "      <td>1</td>\n",
       "    </tr>\n",
       "  </tbody>\n",
       "</table>\n",
       "</div>"
      ],
      "text/plain": [
       "   id  mortgage_type  default_time  payoff_time  Censored\n",
       "0  62  Single Family             0            1         1\n",
       "1  63  Single Family             0            1         1\n",
       "2  64  Single Family             0            1         1\n",
       "3  66  Single Family             0            0         0\n",
       "4  67  Single Family             1            0         1"
      ]
     },
     "execution_count": 102,
     "metadata": {},
     "output_type": "execute_result"
    }
   ],
   "source": [
    "def_by_type.head()"
   ]
  },
  {
   "cell_type": "code",
   "execution_count": 103,
   "metadata": {},
   "outputs": [],
   "source": [
    "def_by_type = def_by_type.loc[def_by_type['Censored'] > 0, ]\n",
    "\n",
    "def_by_type = def_by_type.groupby('mortgage_type')['default_time','payoff_time'].agg({'default_time':'sum',\n",
    "                                                                                           'payoff_time':'sum'}).reset_index()\n",
    "\n",
    "def_by_type.columns = ['Mortgage Type', 'Defaults', 'Paid Off']"
   ]
  },
  {
   "cell_type": "code",
   "execution_count": 106,
   "metadata": {},
   "outputs": [],
   "source": [
    "# Create columns to calculate the share of mortgages by type of building that were paid off or defaulted on\n",
    "def_by_type['Default Percent'] = def_by_type['Defaults']/(def_by_type['Defaults'] + def_by_type['Paid Off'])*100"
   ]
  },
  {
   "cell_type": "code",
   "execution_count": 107,
   "metadata": {},
   "outputs": [
    {
     "data": {
      "text/html": [
       "<div>\n",
       "<style scoped>\n",
       "    .dataframe tbody tr th:only-of-type {\n",
       "        vertical-align: middle;\n",
       "    }\n",
       "\n",
       "    .dataframe tbody tr th {\n",
       "        vertical-align: top;\n",
       "    }\n",
       "\n",
       "    .dataframe thead th {\n",
       "        text-align: right;\n",
       "    }\n",
       "</style>\n",
       "<table border=\"1\" class=\"dataframe\">\n",
       "  <thead>\n",
       "    <tr style=\"text-align: right;\">\n",
       "      <th></th>\n",
       "      <th>Mortgage Type</th>\n",
       "      <th>Defaults</th>\n",
       "      <th>Paid Off</th>\n",
       "      <th>Default Percent</th>\n",
       "    </tr>\n",
       "  </thead>\n",
       "  <tbody>\n",
       "    <tr>\n",
       "      <th>0</th>\n",
       "      <td>Condo</td>\n",
       "      <td>150</td>\n",
       "      <td>146</td>\n",
       "      <td>50.675676</td>\n",
       "    </tr>\n",
       "    <tr>\n",
       "      <th>1</th>\n",
       "      <td>Single Family</td>\n",
       "      <td>1164</td>\n",
       "      <td>1121</td>\n",
       "      <td>50.940919</td>\n",
       "    </tr>\n",
       "    <tr>\n",
       "      <th>2</th>\n",
       "      <td>Urban Development</td>\n",
       "      <td>240</td>\n",
       "      <td>226</td>\n",
       "      <td>51.502146</td>\n",
       "    </tr>\n",
       "  </tbody>\n",
       "</table>\n",
       "</div>"
      ],
      "text/plain": [
       "       Mortgage Type  Defaults  Paid Off  Default Percent\n",
       "0              Condo       150       146        50.675676\n",
       "1      Single Family      1164      1121        50.940919\n",
       "2  Urban Development       240       226        51.502146"
      ]
     },
     "execution_count": 107,
     "metadata": {},
     "output_type": "execute_result"
    }
   ],
   "source": [
    "# Display table\n",
    "def_by_type"
   ]
  },
  {
   "cell_type": "code",
   "execution_count": null,
   "metadata": {},
   "outputs": [],
   "source": []
  },
  {
   "cell_type": "code",
   "execution_count": 108,
   "metadata": {},
   "outputs": [
    {
     "data": {
      "text/html": [
       "<div>\n",
       "<style scoped>\n",
       "    .dataframe tbody tr th:only-of-type {\n",
       "        vertical-align: middle;\n",
       "    }\n",
       "\n",
       "    .dataframe tbody tr th {\n",
       "        vertical-align: top;\n",
       "    }\n",
       "\n",
       "    .dataframe thead th {\n",
       "        text-align: right;\n",
       "    }\n",
       "</style>\n",
       "<table border=\"1\" class=\"dataframe\">\n",
       "  <thead>\n",
       "    <tr style=\"text-align: right;\">\n",
       "      <th></th>\n",
       "      <th>id</th>\n",
       "      <th>time</th>\n",
       "      <th>orig_time</th>\n",
       "      <th>first_time</th>\n",
       "      <th>mat_time</th>\n",
       "      <th>balance_time</th>\n",
       "      <th>LTV_time</th>\n",
       "      <th>interest_rate_time</th>\n",
       "      <th>hpi_time</th>\n",
       "      <th>gdp_time</th>\n",
       "      <th>...</th>\n",
       "      <th>hpi_orig_time</th>\n",
       "      <th>default_time</th>\n",
       "      <th>payoff_time</th>\n",
       "      <th>status_time</th>\n",
       "      <th>elapsed_perc</th>\n",
       "      <th>perc_bal_paid</th>\n",
       "      <th>Time</th>\n",
       "      <th>Quarter</th>\n",
       "      <th>type</th>\n",
       "      <th>mortgage_type</th>\n",
       "    </tr>\n",
       "  </thead>\n",
       "  <tbody>\n",
       "    <tr>\n",
       "      <th>0</th>\n",
       "      <td>1</td>\n",
       "      <td>25</td>\n",
       "      <td>-7</td>\n",
       "      <td>25</td>\n",
       "      <td>113</td>\n",
       "      <td>41303.42</td>\n",
       "      <td>24.498336</td>\n",
       "      <td>9.2</td>\n",
       "      <td>226.29</td>\n",
       "      <td>2.899137</td>\n",
       "      <td>...</td>\n",
       "      <td>87.03</td>\n",
       "      <td>0</td>\n",
       "      <td>0</td>\n",
       "      <td>0</td>\n",
       "      <td>0.266667</td>\n",
       "      <td>0.082146</td>\n",
       "      <td>25</td>\n",
       "      <td>2005Q3</td>\n",
       "      <td>3</td>\n",
       "      <td>Single Family</td>\n",
       "    </tr>\n",
       "    <tr>\n",
       "      <th>1</th>\n",
       "      <td>1</td>\n",
       "      <td>26</td>\n",
       "      <td>-7</td>\n",
       "      <td>25</td>\n",
       "      <td>113</td>\n",
       "      <td>41061.95</td>\n",
       "      <td>24.483867</td>\n",
       "      <td>9.2</td>\n",
       "      <td>225.10</td>\n",
       "      <td>2.151365</td>\n",
       "      <td>...</td>\n",
       "      <td>87.03</td>\n",
       "      <td>0</td>\n",
       "      <td>0</td>\n",
       "      <td>0</td>\n",
       "      <td>0.275000</td>\n",
       "      <td>0.087512</td>\n",
       "      <td>26</td>\n",
       "      <td>2005Q4</td>\n",
       "      <td>3</td>\n",
       "      <td>Single Family</td>\n",
       "    </tr>\n",
       "    <tr>\n",
       "      <th>2</th>\n",
       "      <td>1</td>\n",
       "      <td>27</td>\n",
       "      <td>-7</td>\n",
       "      <td>25</td>\n",
       "      <td>113</td>\n",
       "      <td>40804.42</td>\n",
       "      <td>24.626795</td>\n",
       "      <td>9.2</td>\n",
       "      <td>222.39</td>\n",
       "      <td>2.361722</td>\n",
       "      <td>...</td>\n",
       "      <td>87.03</td>\n",
       "      <td>0</td>\n",
       "      <td>0</td>\n",
       "      <td>0</td>\n",
       "      <td>0.283333</td>\n",
       "      <td>0.093235</td>\n",
       "      <td>27</td>\n",
       "      <td>2006Q1</td>\n",
       "      <td>3</td>\n",
       "      <td>Single Family</td>\n",
       "    </tr>\n",
       "    <tr>\n",
       "      <th>3</th>\n",
       "      <td>1</td>\n",
       "      <td>28</td>\n",
       "      <td>-7</td>\n",
       "      <td>25</td>\n",
       "      <td>113</td>\n",
       "      <td>40483.89</td>\n",
       "      <td>24.735883</td>\n",
       "      <td>9.2</td>\n",
       "      <td>219.67</td>\n",
       "      <td>1.229172</td>\n",
       "      <td>...</td>\n",
       "      <td>87.03</td>\n",
       "      <td>0</td>\n",
       "      <td>0</td>\n",
       "      <td>0</td>\n",
       "      <td>0.291667</td>\n",
       "      <td>0.100358</td>\n",
       "      <td>28</td>\n",
       "      <td>2006Q2</td>\n",
       "      <td>3</td>\n",
       "      <td>Single Family</td>\n",
       "    </tr>\n",
       "    <tr>\n",
       "      <th>4</th>\n",
       "      <td>1</td>\n",
       "      <td>29</td>\n",
       "      <td>-7</td>\n",
       "      <td>25</td>\n",
       "      <td>113</td>\n",
       "      <td>40367.06</td>\n",
       "      <td>24.925476</td>\n",
       "      <td>9.2</td>\n",
       "      <td>217.37</td>\n",
       "      <td>1.692969</td>\n",
       "      <td>...</td>\n",
       "      <td>87.03</td>\n",
       "      <td>0</td>\n",
       "      <td>0</td>\n",
       "      <td>0</td>\n",
       "      <td>0.300000</td>\n",
       "      <td>0.102954</td>\n",
       "      <td>29</td>\n",
       "      <td>2006Q3</td>\n",
       "      <td>3</td>\n",
       "      <td>Single Family</td>\n",
       "    </tr>\n",
       "  </tbody>\n",
       "</table>\n",
       "<p>5 rows × 29 columns</p>\n",
       "</div>"
      ],
      "text/plain": [
       "   id  time  orig_time  first_time  mat_time  balance_time   LTV_time  \\\n",
       "0   1    25         -7          25       113      41303.42  24.498336   \n",
       "1   1    26         -7          25       113      41061.95  24.483867   \n",
       "2   1    27         -7          25       113      40804.42  24.626795   \n",
       "3   1    28         -7          25       113      40483.89  24.735883   \n",
       "4   1    29         -7          25       113      40367.06  24.925476   \n",
       "\n",
       "   interest_rate_time  hpi_time  gdp_time  ...  hpi_orig_time  default_time  \\\n",
       "0                 9.2    226.29  2.899137  ...          87.03             0   \n",
       "1                 9.2    225.10  2.151365  ...          87.03             0   \n",
       "2                 9.2    222.39  2.361722  ...          87.03             0   \n",
       "3                 9.2    219.67  1.229172  ...          87.03             0   \n",
       "4                 9.2    217.37  1.692969  ...          87.03             0   \n",
       "\n",
       "   payoff_time  status_time  elapsed_perc  perc_bal_paid  Time  Quarter  type  \\\n",
       "0            0            0      0.266667       0.082146    25   2005Q3     3   \n",
       "1            0            0      0.275000       0.087512    26   2005Q4     3   \n",
       "2            0            0      0.283333       0.093235    27   2006Q1     3   \n",
       "3            0            0      0.291667       0.100358    28   2006Q2     3   \n",
       "4            0            0      0.300000       0.102954    29   2006Q3     3   \n",
       "\n",
       "   mortgage_type  \n",
       "0  Single Family  \n",
       "1  Single Family  \n",
       "2  Single Family  \n",
       "3  Single Family  \n",
       "4  Single Family  \n",
       "\n",
       "[5 rows x 29 columns]"
      ]
     },
     "execution_count": 108,
     "metadata": {},
     "output_type": "execute_result"
    }
   ],
   "source": [
    "df.head()"
   ]
  },
  {
   "cell_type": "code",
   "execution_count": 109,
   "metadata": {},
   "outputs": [],
   "source": [
    "# Create variable that calculates how many quarters since the mortgage was originated\n",
    "df['mortgage_qtr'] = df['time'] - df['orig_time']"
   ]
  },
  {
   "cell_type": "code",
   "execution_count": 111,
   "metadata": {},
   "outputs": [],
   "source": [
    "# Create dataframe to calculate total number of mortgages, defaults, and payoffs by building type\n",
    "by_mat = df.groupby(['mortgage_qtr'])[['id','default_time','payoff_time']].agg({'id':'count',\n",
    "                                                                                              'default_time':'sum',\n",
    "                                                                                              'payoff_time':'sum'\n",
    "                                                                                             }).reset_index()\n",
    "\n"
   ]
  },
  {
   "cell_type": "code",
   "execution_count": 113,
   "metadata": {
    "scrolled": true
   },
   "outputs": [
    {
     "data": {
      "text/html": [
       "<div>\n",
       "<style scoped>\n",
       "    .dataframe tbody tr th:only-of-type {\n",
       "        vertical-align: middle;\n",
       "    }\n",
       "\n",
       "    .dataframe tbody tr th {\n",
       "        vertical-align: top;\n",
       "    }\n",
       "\n",
       "    .dataframe thead th {\n",
       "        text-align: right;\n",
       "    }\n",
       "</style>\n",
       "<table border=\"1\" class=\"dataframe\">\n",
       "  <thead>\n",
       "    <tr style=\"text-align: right;\">\n",
       "      <th></th>\n",
       "      <th>mortgage_qtr</th>\n",
       "      <th>id</th>\n",
       "      <th>default_time</th>\n",
       "      <th>payoff_time</th>\n",
       "    </tr>\n",
       "  </thead>\n",
       "  <tbody>\n",
       "    <tr>\n",
       "      <th>0</th>\n",
       "      <td>0</td>\n",
       "      <td>8145</td>\n",
       "      <td>90</td>\n",
       "      <td>653</td>\n",
       "    </tr>\n",
       "    <tr>\n",
       "      <th>1</th>\n",
       "      <td>1</td>\n",
       "      <td>8145</td>\n",
       "      <td>126</td>\n",
       "      <td>583</td>\n",
       "    </tr>\n",
       "    <tr>\n",
       "      <th>2</th>\n",
       "      <td>2</td>\n",
       "      <td>23634</td>\n",
       "      <td>243</td>\n",
       "      <td>1254</td>\n",
       "    </tr>\n",
       "    <tr>\n",
       "      <th>3</th>\n",
       "      <td>3</td>\n",
       "      <td>34769</td>\n",
       "      <td>599</td>\n",
       "      <td>1950</td>\n",
       "    </tr>\n",
       "    <tr>\n",
       "      <th>4</th>\n",
       "      <td>4</td>\n",
       "      <td>35459</td>\n",
       "      <td>787</td>\n",
       "      <td>2069</td>\n",
       "    </tr>\n",
       "    <tr>\n",
       "      <th>5</th>\n",
       "      <td>5</td>\n",
       "      <td>34122</td>\n",
       "      <td>921</td>\n",
       "      <td>2414</td>\n",
       "    </tr>\n",
       "    <tr>\n",
       "      <th>6</th>\n",
       "      <td>6</td>\n",
       "      <td>31876</td>\n",
       "      <td>908</td>\n",
       "      <td>1891</td>\n",
       "    </tr>\n",
       "    <tr>\n",
       "      <th>7</th>\n",
       "      <td>7</td>\n",
       "      <td>30026</td>\n",
       "      <td>959</td>\n",
       "      <td>1565</td>\n",
       "    </tr>\n",
       "    <tr>\n",
       "      <th>8</th>\n",
       "      <td>8</td>\n",
       "      <td>28112</td>\n",
       "      <td>901</td>\n",
       "      <td>1850</td>\n",
       "    </tr>\n",
       "    <tr>\n",
       "      <th>9</th>\n",
       "      <td>9</td>\n",
       "      <td>25808</td>\n",
       "      <td>921</td>\n",
       "      <td>2225</td>\n",
       "    </tr>\n",
       "    <tr>\n",
       "      <th>10</th>\n",
       "      <td>10</td>\n",
       "      <td>22857</td>\n",
       "      <td>944</td>\n",
       "      <td>1279</td>\n",
       "    </tr>\n",
       "    <tr>\n",
       "      <th>11</th>\n",
       "      <td>11</td>\n",
       "      <td>20818</td>\n",
       "      <td>816</td>\n",
       "      <td>873</td>\n",
       "    </tr>\n",
       "    <tr>\n",
       "      <th>12</th>\n",
       "      <td>12</td>\n",
       "      <td>19244</td>\n",
       "      <td>727</td>\n",
       "      <td>806</td>\n",
       "    </tr>\n",
       "    <tr>\n",
       "      <th>13</th>\n",
       "      <td>13</td>\n",
       "      <td>17962</td>\n",
       "      <td>688</td>\n",
       "      <td>742</td>\n",
       "    </tr>\n",
       "    <tr>\n",
       "      <th>14</th>\n",
       "      <td>14</td>\n",
       "      <td>16718</td>\n",
       "      <td>601</td>\n",
       "      <td>479</td>\n",
       "    </tr>\n",
       "    <tr>\n",
       "      <th>15</th>\n",
       "      <td>15</td>\n",
       "      <td>15724</td>\n",
       "      <td>522</td>\n",
       "      <td>447</td>\n",
       "    </tr>\n",
       "    <tr>\n",
       "      <th>16</th>\n",
       "      <td>16</td>\n",
       "      <td>14816</td>\n",
       "      <td>421</td>\n",
       "      <td>364</td>\n",
       "    </tr>\n",
       "    <tr>\n",
       "      <th>17</th>\n",
       "      <td>17</td>\n",
       "      <td>14151</td>\n",
       "      <td>409</td>\n",
       "      <td>336</td>\n",
       "    </tr>\n",
       "    <tr>\n",
       "      <th>18</th>\n",
       "      <td>18</td>\n",
       "      <td>13484</td>\n",
       "      <td>370</td>\n",
       "      <td>300</td>\n",
       "    </tr>\n",
       "    <tr>\n",
       "      <th>19</th>\n",
       "      <td>19</td>\n",
       "      <td>12864</td>\n",
       "      <td>348</td>\n",
       "      <td>311</td>\n",
       "    </tr>\n",
       "  </tbody>\n",
       "</table>\n",
       "</div>"
      ],
      "text/plain": [
       "    mortgage_qtr     id  default_time  payoff_time\n",
       "0              0   8145            90          653\n",
       "1              1   8145           126          583\n",
       "2              2  23634           243         1254\n",
       "3              3  34769           599         1950\n",
       "4              4  35459           787         2069\n",
       "5              5  34122           921         2414\n",
       "6              6  31876           908         1891\n",
       "7              7  30026           959         1565\n",
       "8              8  28112           901         1850\n",
       "9              9  25808           921         2225\n",
       "10            10  22857           944         1279\n",
       "11            11  20818           816          873\n",
       "12            12  19244           727          806\n",
       "13            13  17962           688          742\n",
       "14            14  16718           601          479\n",
       "15            15  15724           522          447\n",
       "16            16  14816           421          364\n",
       "17            17  14151           409          336\n",
       "18            18  13484           370          300\n",
       "19            19  12864           348          311"
      ]
     },
     "execution_count": 113,
     "metadata": {},
     "output_type": "execute_result"
    }
   ],
   "source": [
    "by_mat.head(20)"
   ]
  },
  {
   "cell_type": "code",
   "execution_count": null,
   "metadata": {},
   "outputs": [],
   "source": []
  }
 ],
 "metadata": {
  "kernelspec": {
   "display_name": "Python 3",
   "language": "python",
   "name": "python3"
  },
  "language_info": {
   "codemirror_mode": {
    "name": "ipython",
    "version": 3
   },
   "file_extension": ".py",
   "mimetype": "text/x-python",
   "name": "python",
   "nbconvert_exporter": "python",
   "pygments_lexer": "ipython3",
   "version": "3.6.8"
  }
 },
 "nbformat": 4,
 "nbformat_minor": 2
}
